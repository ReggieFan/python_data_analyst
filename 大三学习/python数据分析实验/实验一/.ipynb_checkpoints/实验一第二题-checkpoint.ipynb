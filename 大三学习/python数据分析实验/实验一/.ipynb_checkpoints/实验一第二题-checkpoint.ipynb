{
 "cells": [
  {
   "cell_type": "code",
   "execution_count": 1,
   "metadata": {},
   "outputs": [
    {
     "name": "stdout",
     "output_type": "stream",
     "text": [
      "Writing test_speed.cpp\n"
     ]
    }
   ],
   "source": [
    "%%writefile test_speed.cpp\n",
    "#include <iostream>\n",
    "#include <stdio.h>\n",
    "#include <stdlib.h>\n",
    "#include <math.h>\n",
    "\n",
    "// using namespace std;\n",
    "\n",
    "\n",
    "int main(int argc, char** argv) {\n",
    "    if (argc < 4){\n",
    "        std::cout << \"run with n_samples, mean, sigma!\";\n",
    "        return 1;\n",
    "    }\n",
    "    int size = atoi(argv[1]);\n",
    "    double mean = atof(argv[2]);\n",
    "    double sigma = atof(argv[3]);\n",
    "    \n",
    "    double * data = new double[size];\n",
    "    double factor = 1. / size;\n",
    "    for (int i=0; i<size; ++i){\n",
    "        data[i] = i * factor;\n",
    "    }\n",
    "    double result = 0.;\n",
    "    double s = 0.;\n",
    "    double x = 0.;\n",
    "    \n",
    "    for (int i=0; i<size; ++i){\n",
    "        x = (data[i] - mean);\n",
    "        s =  x * x / (2 * (sigma * sigma));\n",
    "        result += log(exp(-s) / (sqrt(2 * M_PI) * sigma));\n",
    "    }\n",
    "    \n",
    "    std::cout << std::endl << result << std::endl;\n",
    "    return 0;\n",
    "}"
   ]
  },
  {
   "cell_type": "code",
   "execution_count": null,
   "metadata": {},
   "outputs": [],
   "source": []
  }
 ],
 "metadata": {
  "kernelspec": {
   "display_name": "Python 3",
   "language": "python",
   "name": "python3"
  },
  "latex_envs": {
   "LaTeX_envs_menu_present": true,
   "autoclose": false,
   "autocomplete": true,
   "bibliofile": "biblio.bib",
   "cite_by": "apalike",
   "current_citInitial": 1,
   "eqLabelWithNumbers": true,
   "eqNumInitial": 1,
   "hotkeys": {
    "equation": "Ctrl-E",
    "itemize": "Ctrl-I"
   },
   "labels_anchors": false,
   "latex_user_defs": false,
   "report_style_numbering": false,
   "user_envs_cfg": false
  },
  "nbTranslate": {
   "displayLangs": [
    "*"
   ],
   "hotkey": "alt-t",
   "langInMainMenu": true,
   "sourceLang": "en",
   "targetLang": "fr",
   "useGoogleTranslate": true
  },
  "toc": {
   "base_numbering": 1,
   "nav_menu": {},
   "number_sections": true,
   "sideBar": true,
   "skip_h1_title": false,
   "title_cell": "Table of Contents",
   "title_sidebar": "Contents",
   "toc_cell": false,
   "toc_position": {},
   "toc_section_display": true,
   "toc_window_display": false
  },
  "varInspector": {
   "cols": {
    "lenName": 16,
    "lenType": 16,
    "lenVar": 40
   },
   "kernels_config": {
    "python": {
     "delete_cmd_postfix": "",
     "delete_cmd_prefix": "del ",
     "library": "var_list.py",
     "varRefreshCmd": "print(var_dic_list())"
    },
    "r": {
     "delete_cmd_postfix": ") ",
     "delete_cmd_prefix": "rm(",
     "library": "var_list.r",
     "varRefreshCmd": "cat(var_dic_list()) "
    }
   },
   "types_to_exclude": [
    "module",
    "function",
    "builtin_function_or_method",
    "instance",
    "_Feature"
   ],
   "window_display": false
  }
 },
 "nbformat": 4,
 "nbformat_minor": 2
}
