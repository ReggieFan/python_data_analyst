{
 "cells": [
  {
   "cell_type": "code",
   "execution_count": null,
   "metadata": {},
   "outputs": [],
   "source": [
    "def match(name1,name2):\n",
    "    l=list(name1)\n",
    "    l.sort()\n",
    "    s1=\"\".join(l)\n",
    "    print (s1)\n",
    "    l=list(name2)\n",
    "    l.sort()\n",
    "    s2=\"\".join(l)\n",
    "    print (s2)\n",
    "    if s1==s2:\n",
    "        print ('The words are anagrams')\n",
    "name1，name2=input('Enter two words:').split()\n",
    "match(name1,name2)"
   ]
  },
  {
   "cell_type": "code",
   "execution_count": null,
   "metadata": {},
   "outputs": [],
   "source": []
  }
 ],
 "metadata": {
  "kernelspec": {
   "display_name": "Python 3",
   "language": "python",
   "name": "python3"
  },
  "language_info": {
   "codemirror_mode": {
    "name": "ipython",
    "version": 3
   },
   "file_extension": ".py",
   "mimetype": "text/x-python",
   "name": "python",
   "nbconvert_exporter": "python",
   "pygments_lexer": "ipython3",
   "version": "3.6.5"
  }
 },
 "nbformat": 4,
 "nbformat_minor": 2
}
