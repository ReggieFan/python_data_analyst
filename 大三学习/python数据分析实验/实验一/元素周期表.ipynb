{
 "cells": [
  {
   "cell_type": "code",
   "execution_count": 34,
   "metadata": {},
   "outputs": [
    {
     "name": "stdout",
     "output_type": "stream",
     "text": [
      "Input a chemicla compound,hyphenated:\n",
      "Fe-C2-O3\n",
      "<class 'pandas.core.frame.DataFrame'>\n",
      "The compound is composed of :\n",
      "Iron\n",
      "Carbon\n",
      "Oxygen\n",
      "The atomic mass of compound is :72.0196\n"
     ]
    }
   ],
   "source": [
    "import re\n",
    "import pandas as pd\n",
    "def table():\n",
    "    print ('Input a chemicla compound,hyphenated:')\n",
    "    name=input()\n",
    "    list=name.split('-')\n",
    "    totalcount=0.0\n",
    "    data=pd.read_excel('D:\\periodic-table.xlsx')\n",
    "    #usecols=['symbol','name','atomicMass']\n",
    "    print(type(data))\n",
    "    print('The compound is composed of :')\n",
    "    for i in list:\n",
    "        result = ''.join(re.findall(r'[A-Za-z]', i))\n",
    "        #result.upper()\n",
    "        #print(result+' ')\n",
    "        count = re.sub(\"\\D\", \"\", i) \n",
    "        if str(count)=='':\n",
    "            count=0.0\n",
    "        #print('数量'+str(count))\n",
    "        for j in range(84):\n",
    "            if result==data['symbol'][j]:\n",
    "                print (data['name'][j])\n",
    "                mass=float((data['atomicMass'][j])[:-3])\n",
    "                totalcount=totalcount+float(count)*mass\n",
    "    \n",
    "    print ('The atomic mass of compound is :'+str(totalcount))\n",
    "        \n",
    "table()\n",
    "    "
   ]
  },
  {
   "cell_type": "code",
   "execution_count": null,
   "metadata": {},
   "outputs": [],
   "source": []
  }
 ],
 "metadata": {
  "kernelspec": {
   "display_name": "Python 3",
   "language": "python",
   "name": "python3"
  },
  "language_info": {
   "codemirror_mode": {
    "name": "ipython",
    "version": 3
   },
   "file_extension": ".py",
   "mimetype": "text/x-python",
   "name": "python",
   "nbconvert_exporter": "python",
   "pygments_lexer": "ipython3",
   "version": "3.6.5"
  }
 },
 "nbformat": 4,
 "nbformat_minor": 2
}
