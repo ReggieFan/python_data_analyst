{
 "cells": [
  {
   "cell_type": "code",
   "execution_count": null,
   "metadata": {},
   "outputs": [],
   "source": [
    "原题为抓取公司的子公司，但是翻阅了多个年报，大部分公司年报不包含子公司，白云机场的年报中包含子公司但是保存为图片形式，无法抓取"
   ]
  },
  {
   "cell_type": "code",
   "execution_count": 4,
   "metadata": {
    "ExecuteTime": {
     "end_time": "2018-11-25T16:13:10.493533Z",
     "start_time": "2018-11-25T16:12:47.449533Z"
    }
   },
   "outputs": [
    {
     "data": {
      "text/plain": [
       "['首钢集团有限公司',\n",
       " '中国人民财产保险股份有限公司',\n",
       " '国网英大国际控股集团有限公司',\n",
       " '中国证券金融股份有限公司',\n",
       " '云南合和(集团)股份有限公司',\n",
       " '润华集团股份有限公司',\n",
       " '华夏人寿保险股份有限公司-万能保险产品',\n",
       " '上海健特生命科技有限公司',\n",
       " '中央汇金资产管理有限责任公司',\n",
       " '梧桐树投资平台有限责任公司']"
      ]
     },
     "execution_count": 4,
     "metadata": {},
     "output_type": "execute_result"
    }
   ],
   "source": [
    "import tabula as tb\n",
    "import pandas as pd\n",
    "import numpy as np\n",
    "import re\n",
    "df = tb.read_pdf(\"file:///C:/Users/Administrator/Desktop/%E5%AE%9E%E9%AA%8C%E4%BA%8C/600015_2017_nzy.pdf\",\n",
    "                 encoding='gbk', pages='all',multiple_tables=True)\n",
    "count=11\n",
    "total=[]\n",
    "for i in df:\n",
    "    for j in i[0]:\n",
    "        if j==j:\n",
    "            total.append(j)\n",
    "for i,value in enumerate(total):\n",
    "    if '一致行动的说明' in str(value):\n",
    "        count=i\n",
    "total[count-11:count-1]"
   ]
  },
  {
   "cell_type": "code",
   "execution_count": null,
   "metadata": {},
   "outputs": [],
   "source": [
    "import tabula as tb\n",
    "import pandas as pd\n",
    "import numpy as np\n",
    "import re\n",
    "def zicompany():\n",
    "    a=input('输入年报摘要pdf网址：')\n",
    "    df = tb.read_pdf(a, encoding='gbk', pages='all',multiple_tables=True)\n",
    "    count=11\n",
    "    total=[]\n",
    "    for i in df:\n",
    "        for j in i[0]:\n",
    "            if j==j:\n",
    "                total.append(j)\n",
    "    for i,value in enumerate(total):\n",
    "        if '一致行动的说明' in str(value):\n",
    "            count=i\n",
    "            print(count)\n",
    "            break\n",
    "    print(total[count-11:count-1])\n",
    "    return total[count-11:count-1]\n",
    "zicompany()"
   ]
  },
  {
   "cell_type": "code",
   "execution_count": null,
   "metadata": {},
   "outputs": [],
   "source": [
    "import pymysql\n",
    "# 打开数据库连接\n",
    "db = pymysql.connect(\"localhost\",\"root\",\"root\",\"stockprice\" )\n",
    "# 使用 cursor() 方法创建一个游标对象 cursor\n",
    "cursor = db.cursor()\n",
    "# 使用 execute() 方法执行 SQL，如果表存在则删除\n",
    "cursor.execute(\"DROP TABLE IF EXISTS nianbao\")\n",
    "# 使用预处理语句创建表\n",
    "sql = \"\"\"CREATE TABLE nianbao (\n",
    "         company  CHAR(30)  primary key)\"\"\"\n",
    "cursor.execute(sql)\n",
    "# 关闭数据库连接\n",
    "db.close()"
   ]
  },
  {
   "cell_type": "code",
   "execution_count": null,
   "metadata": {},
   "outputs": [],
   "source": [
    "db = pymysql.connect(\"localhost\",\"root\",\"root\",\"stockprice\")\n",
    "# 使用cursor()方法获取操作游标 \n",
    "cursor = db.cursor()\n",
    "for i in zicompany():\n",
    "    sql = \"INSERT INTO nianbao(company) VALUES (\"+str(i)+\")\"\n",
    "    print (sql)\n",
    "    try:\n",
    "        cursor.execute(sql)\n",
    "        db.commit()\n",
    "    except:\n",
    "        db.rollback()\n",
    "# 关闭数据库连接\n",
    "db.close()"
   ]
  }
 ],
 "metadata": {
  "kernelspec": {
   "display_name": "Python 3",
   "language": "python",
   "name": "python3"
  },
  "language_info": {
   "codemirror_mode": {
    "name": "ipython",
    "version": 3
   },
   "file_extension": ".py",
   "mimetype": "text/x-python",
   "name": "python",
   "nbconvert_exporter": "python",
   "pygments_lexer": "ipython3",
   "version": "3.6.5"
  },
  "nbTranslate": {
   "displayLangs": [
    "*"
   ],
   "hotkey": "alt-t",
   "langInMainMenu": true,
   "sourceLang": "en",
   "targetLang": "fr",
   "useGoogleTranslate": true
  }
 },
 "nbformat": 4,
 "nbformat_minor": 2
}
