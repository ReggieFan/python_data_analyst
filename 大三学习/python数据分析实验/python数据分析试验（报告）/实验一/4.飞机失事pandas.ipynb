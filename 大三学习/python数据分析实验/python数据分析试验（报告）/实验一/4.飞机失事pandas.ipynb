{
 "cells": [
  {
   "cell_type": "code",
   "execution_count": 2,
   "metadata": {},
   "outputs": [
    {
     "name": "stdout",
     "output_type": "stream",
     "text": [
      "0       09/17/1908\n",
      "1       07/12/1912\n",
      "2       08/06/1913\n",
      "3       09/09/1913\n",
      "4       10/17/1913\n",
      "5       03/05/1915\n",
      "6       09/03/1915\n",
      "7       07/28/1916\n",
      "8       09/24/1916\n",
      "9       10/01/1916\n",
      "10      11/21/1916\n",
      "11      11/28/1916\n",
      "12      03/04/1917\n",
      "13      03/30/1917\n",
      "14      05/14/1917\n",
      "15      06/14/1917\n",
      "16      08/21/1917\n",
      "17      10/20/1917\n",
      "18      04/07/1918\n",
      "19      05/10/1918\n",
      "20      08/11/1918\n",
      "21      12/16/1918\n",
      "22      05/25/1919\n",
      "23      07/19/1919\n",
      "24      10/02/1919\n",
      "25      10/14/1919\n",
      "26      10/20/1919\n",
      "27      10/30/1919\n",
      "28      03/10/1920\n",
      "29      03/30/1920\n",
      "           ...    \n",
      "5238    11/13/2008\n",
      "5239    11/16/2008\n",
      "5240    11/27/2008\n",
      "5241    12/03/2008\n",
      "5242    12/11/2008\n",
      "5243    12/15/2008\n",
      "5244    01/04/2009\n",
      "5245    01/15/2009\n",
      "5246    02/07/2009\n",
      "5247    02/07/2009\n",
      "5248    02/12/2009\n",
      "5249    02/15/2009\n",
      "5250    02/20/2009\n",
      "5251    02/25/2009\n",
      "5252    03/09/2009\n",
      "5253    03/12/2009\n",
      "5254    03/22/2009\n",
      "5255    03/23/2009\n",
      "5256    04/01/2009\n",
      "5257    04/06/2009\n",
      "5258    04/09/2009\n",
      "5259    04/17/2009\n",
      "5260    04/17/2009\n",
      "5261    04/29/2009\n",
      "5262    05/03/2009\n",
      "5263    05/20/2009\n",
      "5264    05/26/2009\n",
      "5265    06/01/2009\n",
      "5266    06/07/2009\n",
      "5267    06/08/2009\n",
      "Name: Date, Length: 5268, dtype: object\n"
     ]
    }
   ],
   "source": [
    "# -*- coding=utf-8 -*-\n",
    "import pandas as pd\n",
    "import datetime\n",
    "import csv    #需要加载numpy和csv两个包  \n",
    "data=pd.read_excel('D:/Airplane_Crashes_and_Fatalities_Since_1908_.xlsx')    #打开文件  \n",
    "print(data['Date'])\n",
    "# date=data['Date']\n",
    "date = data['Date']\n",
    "date= pd.to_datetime(date)\n",
    "j=0\n",
    "for i in date:\n",
    "    year=i.year\n",
    "    date[j]=year\n",
    "    j=j+1\n",
    "date = date.value_counts(sort=False)\n",
    "index=list(date.index)\n",
    "for i in range(98):\n",
    "    if (i%5)==0:\n",
    "        continue\n",
    "    else:\n",
    "        index[i]=''"
   ]
  },
  {
   "cell_type": "code",
   "execution_count": 4,
   "metadata": {},
   "outputs": [
    {
     "data": {
      "text/plain": [
       "<matplotlib.axes._subplots.AxesSubplot at 0x90dbf98>"
      ]
     },
     "execution_count": 4,
     "metadata": {},
     "output_type": "execute_result"
    }
   ],
   "source": [
    "import pandas as pd\n",
    "import numpy as np\n",
    "import matplotlib.pyplot as plt\n",
    "import matplotlib.dates as mdate\n",
    "import pylab as mpl \n",
    "plt.subplots(1, 1,figsize=(20, 10))\n",
    "date.index=index\n",
    "cc = (np.arange(98)+1)*2\n",
    "plt.xticks(fontsize=30)\n",
    "plt.yticks(fontsize=10)\n",
    "date.plot(kind='bar',color=plt.cm.jet(cc))   #基于data.plot"
   ]
  },
  {
   "cell_type": "markdown",
   "metadata": {},
   "source": [
    "利用numpy给每一列命名，可以取得某一列。"
   ]
  },
  {
   "cell_type": "code",
   "execution_count": 6,
   "metadata": {},
   "outputs": [
    {
     "name": "stdout",
     "output_type": "stream",
     "text": [
      "0                         Military - U.S. Army\n",
      "1                         Military - U.S. Navy\n",
      "2                                      Private\n",
      "3                       Military - German Navy\n",
      "4                       Military - German Navy\n",
      "5                       Military - German Navy\n",
      "6                       Military - German Navy\n",
      "7                       Military - German Army\n",
      "8                       Military - German Navy\n",
      "9                       Military - German Navy\n",
      "10                      Military - German Army\n",
      "11                      Military - German Navy\n",
      "12                      Military - German Army\n",
      "13                      Military - German Navy\n",
      "14                      Military - German Navy\n",
      "15                      Military - German Navy\n",
      "16                      Military - German Navy\n",
      "17                      Military - German Navy\n",
      "18                      Military - German Navy\n",
      "19                      Military - German Navy\n",
      "20                      Military - German Navy\n",
      "21                      US Aerial Mail Service\n",
      "22                      US Aerial Mail Service\n",
      "23                      US Aerial Mail Service\n",
      "24               Aircraft Transport and Travel\n",
      "25                      US Aerial Mail Service\n",
      "26               Aircraft Transport and Travel\n",
      "27                      US Aerial Mail Service\n",
      "28                      US Aerial Mail Service\n",
      "29                      US Aerial Mail Service\n",
      "                         ...                  \n",
      "5238                     Falcon Aviation Group\n",
      "5239                    PacifiCoastal Airlines\n",
      "5240    XL Airways leased from Air New Zealand\n",
      "5241            Webstas Aviation Services Inc.\n",
      "5242                     Rotorcraft Leasing Co\n",
      "5243                          Alantis Aviation\n",
      "5244                 Petroleum Helicopters Inc\n",
      "5245                                US Airways\n",
      "5246                           Aerotaxi Manaus\n",
      "5247                         Air One Executive\n",
      "5248         Continental Connection/Colgan Air\n",
      "5249                            Flight Service\n",
      "5250                                  Aerolift\n",
      "5251                          Turkish Airlines\n",
      "5252                                  Aerolift\n",
      "5253                        Cougar Helicopters\n",
      "5254                         Eagle Cap Leasing\n",
      "5255                                     FedEx\n",
      "5256                 Bond Offshore Helicopters\n",
      "5257           Military - Indonesian Air Force\n",
      "5258                          Aviastar Mandiri\n",
      "5259                                Mimika Air\n",
      "5260                           Aerotuy airline\n",
      "5261                                  Bako Air\n",
      "5262                Military - Venezuelan Army\n",
      "5263           Military - Indonesian Air Force\n",
      "5264                               Service Air\n",
      "5265                                Air France\n",
      "5266                                Strait Air\n",
      "5267               Military - Indian Air Force\n",
      "Name: Operator, Length: 5268, dtype: object\n"
     ]
    }
   ],
   "source": [
    "print (data['Operator'])"
   ]
  },
  {
   "cell_type": "markdown",
   "metadata": {},
   "source": [
    "用Numpy进行数据清洗，统计失事死亡率，并求出最大发生事故的航空公司。"
   ]
  },
  {
   "cell_type": "code",
   "execution_count": 5,
   "metadata": {},
   "outputs": [
    {
     "name": "stdout",
     "output_type": "stream",
     "text": [
      "Military - U.S. Air Force 155.0\n",
      "平均死亡人数：16.669358094469114\n"
     ]
    }
   ],
   "source": [
    "diction = dict(zip(data['Operator'], data['Fatalities']))\n",
    "max_fatal=0\n",
    "all_fatal=0.0\n",
    "max_operator=''\n",
    "count=0\n",
    "for i in diction:\n",
    "    if data['Fatalities'][count]>0:\n",
    "        all_fatal=all_fatal+(data['Fatalities'][count])\n",
    "#     print (data['Fatalities'][count])\n",
    "#     print (all_fatal)\n",
    "    if (data['Fatalities'][count])>max_fatal:\n",
    "        max_fatal=(data['Fatalities'][count])\n",
    "        max_operator=data['Operator'][count]\n",
    "    count=count+1\n",
    "print (max_operator,max_fatal)\n",
    "print ('平均死亡人数：'+str(all_fatal/count))"
   ]
  },
  {
   "cell_type": "markdown",
   "metadata": {},
   "source": [
    "用Numpy统计发生最多事故航空的每年事故次数，并绘图"
   ]
  },
  {
   "cell_type": "code",
   "execution_count": 69,
   "metadata": {},
   "outputs": [
    {
     "data": {
      "text/plain": [
       "<matplotlib.axes._subplots.AxesSubplot at 0xd8ac278>"
      ]
     },
     "execution_count": 69,
     "metadata": {},
     "output_type": "execute_result"
    },
    {
     "data": {
      "image/png": "[encoded data removed]",
      "text/plain": [
       "<Figure size 1440x720 with 1 Axes>"
      ]
     },
     "metadata": {},
     "output_type": "display_data"
    }
   ],
   "source": [
    "import pandas as pd\n",
    "import matplotlib.pyplot as plt\n",
    "import matplotlib.dates as mdate\n",
    "import pylab as mpl \n",
    "import numpy as np\n",
    "count=0\n",
    "j=0\n",
    "date=pd.Series(1)\n",
    "for i in data['Operator']:\n",
    "    if i =='Military - U.S. Air Force':\n",
    "        date[j]=(data['Date'][count])\n",
    "        j=j+1\n",
    "    count=count+1\n",
    "# print (date)\n",
    "date= pd.to_datetime(date)\n",
    "j=0\n",
    "for i in date:\n",
    "    year=i.year\n",
    "    date[j]=year\n",
    "    j=j+1\n",
    "date = date.value_counts(sort=False)\n",
    "# print (date)\n",
    "index=list(date.index)\n",
    "for i in range(54):\n",
    "    if (i%5)==0:\n",
    "        continue\n",
    "    else:\n",
    "        index[i]=''\n",
    "plt.subplots(1, 1,figsize=(20, 10))\n",
    "date.index=index\n",
    "cc = (np.arange(54)+1)*2\n",
    "plt.xticks(fontsize=30)\n",
    "plt.yticks(fontsize=10)\n",
    "date.plot(kind='bar',color=plt.cm.jet(cc))   #基于data.plot"
   ]
  },
  {
   "cell_type": "code",
   "execution_count": 7,
   "metadata": {},
   "outputs": [
    {
     "name": "stdout",
     "output_type": "stream",
     "text": [
      "Enter two words: tom otm\n",
      "The words are anagrams\n"
     ]
    }
   ],
   "source": []
  },
  {
   "cell_type": "code",
   "execution_count": null,
   "metadata": {},
   "outputs": [],
   "source": []
  }
 ],
 "metadata": {
  "kernelspec": {
   "display_name": "Python 3",
   "language": "python",
   "name": "python3"
  },
  "language_info": {
   "codemirror_mode": {
    "name": "ipython",
    "version": 3
   },
   "file_extension": ".py",
   "mimetype": "text/x-python",
   "name": "python",
   "nbconvert_exporter": "python",
   "pygments_lexer": "ipython3",
   "version": "3.6.5"
  }
 },
 "nbformat": 4,
 "nbformat_minor": 2
}
