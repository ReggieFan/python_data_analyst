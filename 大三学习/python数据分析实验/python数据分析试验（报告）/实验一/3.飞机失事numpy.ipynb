{
 "cells": [
  {
   "cell_type": "markdown",
   "metadata": {},
   "source": [
    "从csv文件中读取数据，并存入numpy.ndarray。\n",
    "分为两部分存储，一是年份时间，二是该年份发生事件的次数。"
   ]
  },
  {
   "cell_type": "code",
   "execution_count": 2,
   "metadata": {
    "scrolled": true
   },
   "outputs": [
    {
     "name": "stdout",
     "output_type": "stream",
     "text": [
      "['09/17/1908' '07/12/1912' '08/06/1913' ... '06/01/2009' '06/07/2009'\n",
      " '06/08/2009']\n",
      "<class 'numpy.ndarray'>\n",
      "['1908' '1912' '1913' '1915' '1916' '1917' '1918' '1919' '1920' '1921'\n",
      " '1922' '1923' '1924' '1925' '1926' '1927' '1928' '1929' '1930' '1931'\n",
      " '1932' '1933' '1934' '1935' '1936' '1937' '1938' '1939' '1940' '1941'\n",
      " '1942' '1943' '1944' '1945' '1946' '1947' '1948' '1949' '1950' '1951'\n",
      " '1952' '1953' '1954' '1955' '1956' '1957' '1958' '1959' '1960' '1961'\n",
      " '1962' '1963' '1964' '1965' '1966' '1967' '1968' '1969' '1970' '1971'\n",
      " '1972' '1973' '1974' '1975' '1976' '1977' '1978' '1979' '1980' '1981'\n",
      " '1982' '1983' '1984' '1985' '1986' '1987' '1988' '1989' '1990' '1991'\n",
      " '1992' '1993' '1994' '1995' '1996' '1997' '1998' '1999' '2000' '2001'\n",
      " '2002' '2003' '2004' '2005' '2006' '2007' '2008' '2009']\n",
      "98\n"
     ]
    }
   ],
   "source": [
    "# -*- coding=utf-8 -*-\n",
    "import numpy as np  \n",
    "import datetime\n",
    "import csv    #需要加载numpy和csv两个包  \n",
    "csv_file=open('D:/Airplane_Crashes_and_Fatalities_Since_1908_.csv')    #打开文件  \n",
    "csv_reader_lines = csv.reader(csv_file)    #用csv.reader读文件  \n",
    "date_PyList=[]\n",
    "for one_line in csv_reader_lines:\n",
    "    date_PyList.append(one_line)    #逐行将读到的文件存入python的列表  \n",
    "date_ndarray = np.array(date_PyList)    #将python列表转化为ndarray  \n",
    "date=date_ndarray.T[0][1:]\n",
    "print (date)    #切个片试一下是否成功\n",
    "j=0\n",
    "for i in date:\n",
    "#     print (\"当前的年份是:\"+ i)\n",
    "#     print (type(i))\n",
    "    # 字符串转日期\n",
    "    data_time = datetime.datetime.strptime(i, '%m/%d/%Y')\n",
    "    year=data_time.year\n",
    "    date[j]=year\n",
    "    j=j+1\n",
    "#     print (type(data_time),str(year))\n",
    "print (type(date))\n",
    "dictionkey, dictionval = np.unique(date, return_counts=True)\n",
    "# print (unique)\n",
    "# print (counts)\n",
    "# diction = dict(zip(unique, counts))\n",
    "# dictionval=list(diction.values())\n",
    "# dictinoval=np.array(dictionval)\n",
    "# dictionkey= list(diction.keys())\n",
    "# dictinokey=np.array(dictionkey)\n",
    "print (dictionkey)\n",
    "print (len(dictionkey))\n",
    "csv_file.close()"
   ]
  },
  {
   "cell_type": "markdown",
   "metadata": {},
   "source": [
    "首先通过plt来设置图表格式，之后利用data.plot()把图表显示出来。此图表纵坐标为在某年发生的事件次数，横坐标为年份。"
   ]
  },
  {
   "cell_type": "code",
   "execution_count": 3,
   "metadata": {},
   "outputs": [
    {
     "data": {
      "text/plain": [
       "<matplotlib.axes._subplots.AxesSubplot at 0x91fb7f0>"
      ]
     },
     "execution_count": 3,
     "metadata": {},
     "output_type": "execute_result"
    }
   ],
   "source": [
    "import pandas as pd\n",
    "import matplotlib.pyplot as plt\n",
    "import matplotlib.dates as mdate\n",
    "import pylab as mpl \n",
    "plt.subplots(1, 1,figsize=(20, 10))\n",
    "for i in range(98):\n",
    "    if (i%5)==0:\n",
    "        continue\n",
    "    else:\n",
    "        dictionkey[i]=''\n",
    "data = pd.Series(dictionval,index=dictionkey)\n",
    "cc = (np.arange(98)+1)*2\n",
    "#plt.autofmt_xdate()\n",
    "plt.xticks(fontsize=30)\n",
    "plt.yticks(fontsize=10)\n",
    "# fig = plt.figure()\n",
    "#生成axis对象\n",
    "# ax = fig.add_subplot(111) #本案例的figure中只包含一个图表\n",
    "#设置x轴为时间格式，这句非常重要，否则x轴显示的将是类似于‘736268’这样的转码后的数字格式\n",
    "#ax.xaxis.set_major_formatter(mdate.DateFormatter('%Y'))\n",
    "# plt.figsize(10,10)\n",
    "# plt.xticks(range(dictionkey[0],dictionkey[1]+1,3),rotation=45)\n",
    "# plt.xticks([1,2,3,4,5])\n",
    "data.plot(kind='bar',color=plt.cm.jet(cc))   #基于data.plot\n",
    "#fig.autofmt_xdate()\n",
    "# ax.plot(dictionkey,dictionval,color='r')\n",
    "# plt.show()"
   ]
  },
  {
   "cell_type": "code",
   "execution_count": 49,
   "metadata": {},
   "outputs": [
    {
     "data": {
      "text/plain": [
       "{0: 7, 1: 4, 2: 1, 3: 2, 4: 1}"
      ]
     },
     "execution_count": 49,
     "metadata": {},
     "output_type": "execute_result"
    }
   ],
   "source": [
    "# import collections\n",
    "# a = np.array([0, 3, 0, 1, 0, 1, 2, 1, 0, 0, 0, 0, 1, 3, 4])\n",
    "# unique, counts = np.unique(a, return_counts=True)\n",
    "# dict(zip(unique, counts))\n",
    "# c = collections.Counter(a)\n",
    "# print (type(c))"
   ]
  },
  {
   "cell_type": "code",
   "execution_count": 110,
   "metadata": {},
   "outputs": [
    {
     "data": {
      "text/html": [
       "<div>\n",
       "<style scoped>\n",
       "    .dataframe tbody tr th:only-of-type {\n",
       "        vertical-align: middle;\n",
       "    }\n",
       "\n",
       "    .dataframe tbody tr th {\n",
       "        vertical-align: top;\n",
       "    }\n",
       "\n",
       "    .dataframe thead th {\n",
       "        text-align: right;\n",
       "    }\n",
       "</style>\n",
       "<table border=\"1\" class=\"dataframe\">\n",
       "  <thead>\n",
       "    <tr style=\"text-align: right;\">\n",
       "      <th></th>\n",
       "      <th>Date</th>\n",
       "      <th>Location</th>\n",
       "      <th>Operator</th>\n",
       "      <th>Flight #</th>\n",
       "      <th>Route</th>\n",
       "      <th>Type</th>\n",
       "      <th>Registration</th>\n",
       "      <th>cn/In</th>\n",
       "      <th>Aboard</th>\n",
       "      <th>Fatalities</th>\n",
       "      <th>Ground</th>\n",
       "      <th>Summary</th>\n",
       "    </tr>\n",
       "  </thead>\n",
       "  <tbody>\n",
       "    <tr>\n",
       "      <th>0</th>\n",
       "      <td>1908-09-17</td>\n",
       "      <td>Fort Myer, Virginia</td>\n",
       "      <td>Military - U.S. Army</td>\n",
       "      <td>NaN</td>\n",
       "      <td>Demonstration</td>\n",
       "      <td>Wright Flyer III</td>\n",
       "      <td>NaN</td>\n",
       "      <td>1</td>\n",
       "      <td>2.0</td>\n",
       "      <td>1.0</td>\n",
       "      <td>0.0</td>\n",
       "      <td>During a demonstration flight, a U.S. Army fly...</td>\n",
       "    </tr>\n",
       "    <tr>\n",
       "      <th>1</th>\n",
       "      <td>1912-07-12</td>\n",
       "      <td>AtlantiCity, New Jersey</td>\n",
       "      <td>Military - U.S. Navy</td>\n",
       "      <td>NaN</td>\n",
       "      <td>Test flight</td>\n",
       "      <td>Dirigible</td>\n",
       "      <td>NaN</td>\n",
       "      <td>NaN</td>\n",
       "      <td>5.0</td>\n",
       "      <td>5.0</td>\n",
       "      <td>0.0</td>\n",
       "      <td>First U.S. dirigible Akron exploded just offsh...</td>\n",
       "    </tr>\n",
       "    <tr>\n",
       "      <th>2</th>\n",
       "      <td>1913-08-06</td>\n",
       "      <td>Victoria, British Columbia, Canada</td>\n",
       "      <td>Private</td>\n",
       "      <td>-</td>\n",
       "      <td>NaN</td>\n",
       "      <td>Curtiss seaplane</td>\n",
       "      <td>NaN</td>\n",
       "      <td>NaN</td>\n",
       "      <td>1.0</td>\n",
       "      <td>1.0</td>\n",
       "      <td>0.0</td>\n",
       "      <td>The first fatal airplane accident in Canada oc...</td>\n",
       "    </tr>\n",
       "    <tr>\n",
       "      <th>3</th>\n",
       "      <td>1913-09-09</td>\n",
       "      <td>Over the North Sea</td>\n",
       "      <td>Military - German Navy</td>\n",
       "      <td>NaN</td>\n",
       "      <td>NaN</td>\n",
       "      <td>Zeppelin L-1 (airship)</td>\n",
       "      <td>NaN</td>\n",
       "      <td>NaN</td>\n",
       "      <td>20.0</td>\n",
       "      <td>14.0</td>\n",
       "      <td>0.0</td>\n",
       "      <td>The airship flew into a thunderstorm and encou...</td>\n",
       "    </tr>\n",
       "    <tr>\n",
       "      <th>4</th>\n",
       "      <td>1913-10-17</td>\n",
       "      <td>Near Johannisthal, Germany</td>\n",
       "      <td>Military - German Navy</td>\n",
       "      <td>NaN</td>\n",
       "      <td>NaN</td>\n",
       "      <td>Zeppelin L-2 (airship)</td>\n",
       "      <td>NaN</td>\n",
       "      <td>NaN</td>\n",
       "      <td>30.0</td>\n",
       "      <td>30.0</td>\n",
       "      <td>0.0</td>\n",
       "      <td>Hydrogen gas which was being vented was sucked...</td>\n",
       "    </tr>\n",
       "  </tbody>\n",
       "</table>\n",
       "</div>"
      ],
      "text/plain": [
       "        Date                            Location                Operator  \\\n",
       "0 1908-09-17                 Fort Myer, Virginia    Military - U.S. Army   \n",
       "1 1912-07-12             AtlantiCity, New Jersey    Military - U.S. Navy   \n",
       "2 1913-08-06  Victoria, British Columbia, Canada                 Private   \n",
       "3 1913-09-09                  Over the North Sea  Military - German Navy   \n",
       "4 1913-10-17          Near Johannisthal, Germany  Military - German Navy   \n",
       "\n",
       "  Flight #          Route                    Type Registration cn/In  Aboard  \\\n",
       "0      NaN  Demonstration        Wright Flyer III          NaN     1     2.0   \n",
       "1      NaN    Test flight               Dirigible          NaN   NaN     5.0   \n",
       "2        -            NaN        Curtiss seaplane          NaN   NaN     1.0   \n",
       "3      NaN            NaN  Zeppelin L-1 (airship)          NaN   NaN    20.0   \n",
       "4      NaN            NaN  Zeppelin L-2 (airship)          NaN   NaN    30.0   \n",
       "\n",
       "   Fatalities  Ground                                            Summary  \n",
       "0         1.0     0.0  During a demonstration flight, a U.S. Army fly...  \n",
       "1         5.0     0.0  First U.S. dirigible Akron exploded just offsh...  \n",
       "2         1.0     0.0  The first fatal airplane accident in Canada oc...  \n",
       "3        14.0     0.0  The airship flew into a thunderstorm and encou...  \n",
       "4        30.0     0.0  Hydrogen gas which was being vented was sucked...  "
      ]
     },
     "execution_count": 110,
     "metadata": {},
     "output_type": "execute_result"
    }
   ],
   "source": [
    "# dateparse = lambda dates:pd.datetime.strptime(dates,'%m/%d/%Y')\n",
    "# data = pd.read_excel('D:/Airplane_Crashes_and_Fatalities_Since_1908_.xlsx',encoding='utf-8',parse_dates=['Date'],date_parser=dateparse)\n",
    "# data.head()"
   ]
  },
  {
   "cell_type": "markdown",
   "metadata": {},
   "source": [
    "利用numpy给每一列命名，可以取得某一列。"
   ]
  },
  {
   "cell_type": "code",
   "execution_count": 4,
   "metadata": {},
   "outputs": [
    {
     "name": "stdout",
     "output_type": "stream",
     "text": [
      "['Military - U.S. Army' 'Military - U.S. Navy' 'Private' ... 'Air France'\n",
      " 'Strait Air' 'Military - Indian Air Force']\n"
     ]
    }
   ],
   "source": [
    "csv_file=open('D:/Airplane_Crashes_and_Fatalities_Since_1908_.csv')    #打开文件  \n",
    "csv_reader_lines = csv.reader(csv_file)    #用csv.reader读文件  \n",
    "PyList=[]\n",
    "for one_line in csv_reader_lines:\n",
    "    PyList.append(one_line)    #逐行将读到的文件存入python的列表  \n",
    "ndarray = np.array(PyList)    #将python列表转化为ndarray  \n",
    "items=ndarray[0]\n",
    "alldict={}\n",
    "for i in range(12):\n",
    "    alldict[items[i]]=ndarray.T[i][1:]\n",
    "print (alldict['Operator'])"
   ]
  },
  {
   "cell_type": "markdown",
   "metadata": {},
   "source": [
    "用Numpy进行数据清洗，统计失事死亡率，并求出最大发生事故的航空公司。"
   ]
  },
  {
   "cell_type": "code",
   "execution_count": 5,
   "metadata": {},
   "outputs": [
    {
     "name": "stdout",
     "output_type": "stream",
     "text": [
      "Military - U.S. Air Force 155\n",
      "平均死亡人数：16.669358094469114\n"
     ]
    }
   ],
   "source": [
    "diction = dict(zip(alldict['Operator'], alldict['Fatalities']))\n",
    "max_fatal=0\n",
    "all_fatal=0\n",
    "max_operator=''\n",
    "count=0\n",
    "for i in alldict['Fatalities']:\n",
    "    if i=='':\n",
    "        alldict['Fatalities'][count]='0'\n",
    "    count=count+1\n",
    "count=0\n",
    "for i in diction:\n",
    "    all_fatal=all_fatal+int(alldict['Fatalities'][count])\n",
    "    if int(alldict['Fatalities'][count])>max_fatal:\n",
    "        max_fatal=int(alldict['Fatalities'][count])\n",
    "        max_operator=alldict['Operator'][count]\n",
    "    count=count+1\n",
    "print (max_operator,max_fatal)\n",
    "print ('平均死亡人数：'+str(all_fatal/count))"
   ]
  },
  {
   "cell_type": "code",
   "execution_count": 183,
   "metadata": {},
   "outputs": [
    {
     "name": "stdout",
     "output_type": "stream",
     "text": [
      "['08/07/1943' '12/19/1943' '08/23/1944' '06/30/1945' '03/27/1945'\n",
      " '04/23/1945' '11/28/1947' '12/10/1947' '12/11/1947' '11/03/1948'\n",
      " '01/17/1949' '01/26/1950' '04/21/1950' '05/17/1950' '05/23/1950'\n",
      " '07/07/1950' '07/27/1950' '08/05/1950' '09/26/1950' '12/19/1950'\n",
      " '03/22/1951' '04/08/1951' '05/06/1951' '06/03/1951' '10/15/1951'\n",
      " '12/30/1951' '02/07/1952' '06/24/1952' '12/17/1953' '10/16/1952'\n",
      " '10/29/1952' '11/07/1952' '11/14/1952' '11/15/1952' '11/17/1952'\n",
      " '11/22/1952' '11/28/1952' '12/20/1952' '03/18/1953' '06/18/1953'\n",
      " '08/05/1953' '01/13/1954' '02/01/1954' '02/05/1954' '03/04/1954'\n",
      " '03/19/1954' '08/27/1954' '10/24/1954' '11/17/1955' '11/30/1955'\n",
      " '07/13/1956' '12/30/1956' '02/22/1957' '03/22/1957' '06/27/1958'\n",
      " '09/02/1958' '09/02/1958' '09/15/1958' '10/09/1958' '06/30/1959'\n",
      " '04/18/1960' '07/11/1960' '05/24/1961' '12/17/1960' '01/26/1961'\n",
      " '03/08/1962' '05/17/1962' '09/10/1962' '12/20/1962' '09/22/1963'\n",
      " '05/11/1964' '01/16/1965' '01/22/1965' '10/15/1973' '06/25/1965'\n",
      " '07/11/1965' '12/11/1965' '01/25/1966' '05/18/1966' '11/11/1966'\n",
      " '11/26/1966' '04/25/1967' '06/09/1967' '12/29/1967' '06/17/1967'\n",
      " '06/22/1967' '09/04/1967' '10/08/1967' '11/30/1967' '01/17/1968'\n",
      " '03/06/1968' '05/12/1968' '07/28/1968' '09/24/1968' '10/03/1968'\n",
      " '10/21/1968' '03/08/1969' '02/04/1969' '02/05/1969' '04/25/1969'\n",
      " '06/05/1969' '09/06/1969' '04/21/1970' '05/04/1970' '10/02/1970'\n",
      " '11/27/1970' '11/29/1970' '06/13/1971' '02/19/1972' '03/13/1972'\n",
      " '03/28/1972' '04/26/1972' '06/18/1972' '08/12/1972' '12/05/1972'\n",
      " '12/21/1972' '08/28/1973' '08/18/1974' '10/13/1974' '03/20/1975'\n",
      " '04/04/1975' '05/13/1975' '07/26/1975' '02/06/1976' '08/28/1976'\n",
      " '08/28/1976' '09/26/1976' '09/14/1977' '09/19/1979' '03/14/1980'\n",
      " '04/24/1980' '01/14/1981' '11/12/1980' '02/26/1981' '03/15/1981'\n",
      " '05/06/1981' '09/21/1981' '03/19/1982' '04/13/1982' '05/12/1982'\n",
      " '08/31/1982' '02/13/1983' '06/28/1983' '02/28/1984' '07/12/1984'\n",
      " '01/22/1985' '02/25/1985' '03/12/1985' '08/27/1985' '11/15/1985'\n",
      " '04/02/1986' '06/17/1986' '09/09/1986' '03/13/1987' '07/01/1987'\n",
      " '06/08/1988' '10/11/1988' '01/31/1989' '10/04/1989' '08/29/1990'\n",
      " '02/06/1992' '04/28/1992' '03/14/1994' '04/17/1995' '05/13/1995'\n",
      " '09/22/1995' '04/03/1996' '08/17/1996' '11/22/1996' '04/01/1997'\n",
      " '12/10/1999' '01/09/2002' '02/02/2002' '06/12/2002' '08/07/2002'\n",
      " '03/31/2005']\n"
     ]
    }
   ],
   "source": []
  },
  {
   "cell_type": "markdown",
   "metadata": {},
   "source": [
    "用Numpy统计发生最多事故航空的每年事故次数，并绘图"
   ]
  },
  {
   "cell_type": "code",
   "execution_count": 191,
   "metadata": {},
   "outputs": [
    {
     "name": "stdout",
     "output_type": "stream",
     "text": [
      "<class 'numpy.ndarray'>\n"
     ]
    },
    {
     "data": {
      "text/plain": [
       "<matplotlib.axes._subplots.AxesSubplot at 0x23bd9080>"
      ]
     },
     "execution_count": 191,
     "metadata": {},
     "output_type": "execute_result"
    },
    {
     "data": {
      "image/png": "[encoded data removed]",
      "text/plain": [
       "<Figure size 1440x720 with 1 Axes>"
      ]
     },
     "metadata": {},
     "output_type": "display_data"
    }
   ],
   "source": [
    "import pandas as pd\n",
    "import matplotlib.pyplot as plt\n",
    "import matplotlib.dates as mdate\n",
    "import pylab as mpl \n",
    "count=0\n",
    "date=np.ndarray([])\n",
    "for i in alldict['Operator']:\n",
    "    if i =='Military - U.S. Air Force':\n",
    "        date=np.append(date,alldict['Date'][count])\n",
    "    count=count+1\n",
    "date=date[1:]\n",
    "j=0\n",
    "for i in date:\n",
    "    data_time = datetime.datetime.strptime(i, '%m/%d/%Y')\n",
    "    year=data_time.year\n",
    "    date[j]=year\n",
    "    j=j+1\n",
    "print (type(date))\n",
    "dictionkey, dictionval = np.unique(date, return_counts=True)\n",
    "# print (dictionkey)\n",
    "# print (len(dictionkey))\n",
    "plt.subplots(1, 1,figsize=(20, 10))\n",
    "for i in range(54):\n",
    "    if (i%5)==0:\n",
    "        continue\n",
    "    else:\n",
    "        dictionkey[i]=''\n",
    "data = pd.Series(dictionval,index=dictionkey)\n",
    "cc = (np.arange(54)+1)*5\n",
    "plt.xticks(fontsize=30)\n",
    "plt.yticks(fontsize=10)\n",
    "data.plot(kind='bar',color=plt.cm.jet(cc))   #基于data.plot"
   ]
  },
  {
   "cell_type": "code",
   "execution_count": null,
   "metadata": {},
   "outputs": [],
   "source": []
  }
 ],
 "metadata": {
  "kernelspec": {
   "display_name": "Python 3",
   "language": "python",
   "name": "python3"
  },
  "language_info": {
   "codemirror_mode": {
    "name": "ipython",
    "version": 3
   },
   "file_extension": ".py",
   "mimetype": "text/x-python",
   "name": "python",
   "nbconvert_exporter": "python",
   "pygments_lexer": "ipython3",
   "version": "3.6.5"
  }
 },
 "nbformat": 4,
 "nbformat_minor": 2
}
