{
 "cells": [
  {
   "cell_type": "markdown",
   "metadata": {},
   "source": [
    "# h1\n",
    "## h2\n",
    "### h3\n",
    "#### h4\n",
    "##### h5\n",
    "###### h6"
   ]
  },
  {
   "cell_type": "markdown",
   "metadata": {},
   "source": [
    "一级标题\n",
    "======================\n",
    "二级标题\n",
    "---------------------"
   ]
  },
  {
   "cell_type": "markdown",
   "metadata": {},
   "source": [
    "[TOC]"
   ]
  },
  {
   "cell_type": "markdown",
   "metadata": {},
   "source": [
    "> hello world!\n",
    "> hello world!\n",
    "> hello world!\n",
    "(这个有点奇怪)"
   ]
  },
  {
   "cell_type": "markdown",
   "metadata": {},
   "source": [
    "> aaaaaaaaa\n",
    ">> bbbbbbbbb\n",
    ">>> cccccccccc"
   ]
  },
  {
   "cell_type": "markdown",
   "metadata": {},
   "source": [
    "范远聪`hello world`范远聪"
   ]
  },
  {
   "cell_type": "markdown",
   "metadata": {},
   "source": [
    "范远聪\n",
    "< div>   \n",
    "    < div></div>\n",
    "    < div></div>\n",
    "    < div></div>\n",
    "< /div>\n",
    "范远聪"
   ]
  },
  {
   "cell_type": "markdown",
   "metadata": {},
   "source": [
    "<div>   \n",
    "    <div></div>\n",
    "    <div></div>\n",
    "    <div></div>\n",
    "</div>"
   ]
  },
  {
   "cell_type": "markdown",
   "metadata": {},
   "source": [
    "自定义语法"
   ]
  },
  {
   "cell_type": "markdown",
   "metadata": {},
   "source": [
    "```javascript\n",
    "var num = 0;\n",
    "for (var i = 0; i < 5; i++) {\n",
    "    num+=i;\n",
    "}\n",
    "console.log(num);\n",
    "```"
   ]
  },
  {
   "cell_type": "markdown",
   "metadata": {},
   "source": [
    "[百度一下，你就知道](http://www.baidu.com/\" 百度一下\"){:target=\"_blank\"}   "
   ]
  },
  {
   "cell_type": "markdown",
   "metadata": {},
   "source": [
    "[百度2][2]{:target=\"_blank\"}\n",
    "[2]: http://www.baidu.com/   \"百度二下\""
   ]
  },
  {
   "cell_type": "markdown",
   "metadata": {},
   "source": [
    "# 插入图片"
   ]
  },
  {
   "cell_type": "markdown",
   "metadata": {},
   "source": []
  },
  {
   "cell_type": "markdown",
   "metadata": {},
   "source": [
    "快乐学习： \n",
    "![快乐学习](http://wx4.sinaimg.cn/large/006Dc9qGly1ft3s5i2aa7j30ku0kujud.jpg \"快乐学习\")"
   ]
  },
  {
   "cell_type": "markdown",
   "metadata": {},
   "source": [
    "[内链式](http://www.baidu.com)// 内链式\n",
    "\n",
    "http://www.baidu.com// 引用式\n"
   ]
  },
  {
   "cell_type": "markdown",
   "metadata": {},
   "source": [
    "<iframe height=498 width=510 src='http://player.youku.com/embed/XMjgzNzM0NTYxNg==' frameborder=0 'allowfullscreen'></iframe>"
   ]
  },
  {
   "cell_type": "markdown",
   "metadata": {},
   "source": [
    "# 10.视频插入"
   ]
  },
  {
   "cell_type": "markdown",
   "metadata": {
    "ExecuteTime": {
     "end_time": "2018-12-30T16:37:23.196000Z",
     "start_time": "2018-12-30T16:37:23.176000Z"
    }
   },
   "source": [
    "<iframe height=498 width=510 src='http://player.youku.com/embed/XMjgzNzM0NTYxNg==' frameborder=0 'allowfullscreen'></iframe>"
   ]
  },
  {
   "cell_type": "markdown",
   "metadata": {},
   "source": [
    "[视频军事联盟链接](http://v.youku.com/v_show/id_XMjgzNzM0NTYxNg==.html?spm=a2htv.20009910.contentHolderUnit2.A&from=y1.3-tv-grid-1007-9910.86804.1-2#paction){:target=\"_blank\"}"
   ]
  },
  {
   "cell_type": "markdown",
   "metadata": {},
   "source": [
    "#  列表"
   ]
  },
  {
   "cell_type": "markdown",
   "metadata": {
    "ExecuteTime": {
     "end_time": "2018-12-30T16:41:06.834000Z",
     "start_time": "2018-12-30T16:41:06.829000Z"
    }
   },
   "source": [
    "* one\n",
    "* two\n",
    "* three"
   ]
  },
  {
   "cell_type": "markdown",
   "metadata": {},
   "source": [
    "# 包含引用的列表"
   ]
  },
  {
   "cell_type": "markdown",
   "metadata": {},
   "source": [
    "*   阅读的方法:\n",
    "\n",
    "    > 打开书本。\n",
    "    > 打开电灯。"
   ]
  },
  {
   "cell_type": "markdown",
   "metadata": {},
   "source": [
    "# 任务列表"
   ]
  },
  {
   "cell_type": "markdown",
   "metadata": {},
   "source": [
    "- [x] 选项一\n",
    "- [ ] 选项二  \n",
    "- [ ]  [选项3]"
   ]
  },
  {
   "cell_type": "markdown",
   "metadata": {},
   "source": [
    "# 分隔符"
   ]
  },
  {
   "cell_type": "markdown",
   "metadata": {},
   "source": [
    "***\n",
    "---\n",
    "* * *"
   ]
  },
  {
   "cell_type": "markdown",
   "metadata": {},
   "source": [
    "# （有些图形效果出不来）"
   ]
  },
  {
   "cell_type": "markdown",
   "metadata": {},
   "source": [
    "# 序表"
   ]
  },
  {
   "cell_type": "markdown",
   "metadata": {},
   "source": [
    "1. one\n",
    "2. two\n",
    "3. three"
   ]
  },
  {
   "cell_type": "markdown",
   "metadata": {},
   "source": [
    "* one\n",
    "* two\n",
    "* three"
   ]
  },
  {
   "cell_type": "markdown",
   "metadata": {},
   "source": [
    "1. one\n",
    "    1. one-1\n",
    "    2. two-2\n",
    "2. two \n",
    "    * two-1\n",
    "    * two-2"
   ]
  },
  {
   "cell_type": "markdown",
   "metadata": {},
   "source": [
    "范远聪的选项……\n",
    "\n",
    "- [x] 选项一\n",
    "- [ ] 选项二  \n",
    "- [ ]  [选项3]\n",
    "（失败）"
   ]
  },
  {
   "cell_type": "markdown",
   "metadata": {},
   "source": [
    "对齐·"
   ]
  },
  {
   "cell_type": "markdown",
   "metadata": {},
   "source": [
    "a  | b | c  \n",
    ":-:|:- |-:\n",
    "    居中    |     左对齐      |   右对齐    \n",
    "============|=================|=============1"
   ]
  },
  {
   "cell_type": "markdown",
   "metadata": {},
   "source": [
    "<p style=\"color: #AD5D0F;font-size: 30px; font-family: '宋体';\">内联样式</p>"
   ]
  },
  {
   "cell_type": "markdown",
   "metadata": {},
   "source": [
    "\t***范远聪+学号***（失败了）\n",
    "   "
   ]
  },
  {
   "cell_type": "markdown",
   "metadata": {},
   "source": [
    "公式：\n",
    "$$ x \\href{why-equal.html}{=} y^2 + 1 $$\n",
    "$ x = {-b \\pm \\sqrt{b^2-4ac} \\over 2a}. $"
   ]
  },
  {
   "cell_type": "markdown",
   "metadata": {},
   "source": [
    "锚点："
   ]
  },
  {
   "cell_type": "markdown",
   "metadata": {},
   "source": [
    "[范远聪的锚点](#1)\n",
    "\n",
    "### [需要跳转的目录] {#1}    // 方括号后保持空格"
   ]
  },
  {
   "cell_type": "markdown",
   "metadata": {},
   "source": [
    "```flow                     // 流程\n",
    "st=>start: 开始|past:> http://www.baidu.com // 开始\n",
    "e=>end: 结束              // 结束\n",
    "c1=>condition: 条件1:>http://www.baidu.com[_parent]   // 判断条件\n",
    "c2=>condition: 条件2      // 判断条件\n",
    "c3=>condition: 条件3      // 判断条件\n",
    "io=>inputoutput: 输出     // 输出\n",
    "//----------------以上为定义参数-------------------------\n",
    "\n",
    "//----------------以下为连接参数-------------------------\n",
    "// 开始->判断条件1为no->判断条件2为no->判断条件3为no->输出->结束\n",
    "st->c1(yes,right)->c2(yes,right)->c3(yes,right)->io->e\n",
    "c1(no)->e                   // 条件1不满足->结束\n",
    "c2(no)->e                   // 条件2不满足->结束\n",
    "c3(no)->e                   // 条件3不满足->结束\n",
    "```"
   ]
  },
  {
   "cell_type": "markdown",
   "metadata": {},
   "source": [
    "```flow                             // 流程\n",
    "st=>start: 启动|past:>http://www.baidu.com[blank] // 开始\n",
    "e=>end: 结束                      // 结束\n",
    "op1=>operation: 方案一             // 运算1\n",
    "sub2=>subroutine: 方案二|approved:>http://www.baidu.com[_parent]  // 运算2\n",
    "sub3=>subroutine: 重新制定方案        // 运算2\n",
    "cond1=>condition: 行不行？|request  // 判断条件1\n",
    "cond2=>condition: 行不行？          // 判断条件2\n",
    "io=>inputoutput: 结果满意           // 输出\n",
    "\n",
    "// 开始->方案1->判断条件->\n",
    "st->op1->cond1\n",
    "// 判断条件1为no->方案2->判断条件2为no->重新制定方案->方案1\n",
    "cond1(no,right)->sub2->cond2(no,right)->sub3(right)->op1\n",
    "cond1(yes)->io->e       // 判断条件满足->输出->结束\n",
    "cond2(yes)->io->e       // 判断条件满足->输出->结束\n",
    "```"
   ]
  },
  {
   "cell_type": "markdown",
   "metadata": {},
   "source": [
    "# 效果做不出来"
   ]
  }
 ],
 "metadata": {
  "kernelspec": {
   "display_name": "Python 3",
   "language": "python",
   "name": "python3"
  },
  "language_info": {
   "codemirror_mode": {
    "name": "ipython",
    "version": 3
   },
   "file_extension": ".py",
   "mimetype": "text/x-python",
   "name": "python",
   "nbconvert_exporter": "python",
   "pygments_lexer": "ipython3",
   "version": "3.6.5"
  },
  "nbTranslate": {
   "displayLangs": [
    "*"
   ],
   "hotkey": "alt-t",
   "langInMainMenu": true,
   "sourceLang": "en",
   "targetLang": "fr",
   "useGoogleTranslate": true
  }
 },
 "nbformat": 4,
 "nbformat_minor": 2
}
