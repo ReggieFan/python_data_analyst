{
 "cells": [
  {
   "cell_type": "markdown",
   "metadata": {},
   "source": [
    "# pandas&statsmodel"
   ]
  },
  {
   "cell_type": "markdown",
   "metadata": {},
   "source": [
    "# 第一题："
   ]
  },
  {
   "cell_type": "markdown",
   "metadata": {},
   "source": [
    "### 读入CSV"
   ]
  },
  {
   "cell_type": "code",
   "execution_count": 2,
   "metadata": {
    "ExecuteTime": {
     "end_time": "2018-12-04T01:47:07.554800Z",
     "start_time": "2018-12-04T01:46:57.728800Z"
    }
   },
   "outputs": [
    {
     "data": {
      "text/html": [
       "<div>\n",
       "<style scoped>\n",
       "    .dataframe tbody tr th:only-of-type {\n",
       "        vertical-align: middle;\n",
       "    }\n",
       "\n",
       "    .dataframe tbody tr th {\n",
       "        vertical-align: top;\n",
       "    }\n",
       "\n",
       "    .dataframe thead th {\n",
       "        text-align: right;\n",
       "    }\n",
       "</style>\n",
       "<table border=\"1\" class=\"dataframe\">\n",
       "  <thead>\n",
       "    <tr style=\"text-align: right;\">\n",
       "      <th></th>\n",
       "      <th>admit</th>\n",
       "      <th>gre</th>\n",
       "      <th>gpa</th>\n",
       "      <th>prestige</th>\n",
       "    </tr>\n",
       "  </thead>\n",
       "  <tbody>\n",
       "    <tr>\n",
       "      <th>count</th>\n",
       "      <td>400.000000</td>\n",
       "      <td>400.000000</td>\n",
       "      <td>400.000000</td>\n",
       "      <td>400.00000</td>\n",
       "    </tr>\n",
       "    <tr>\n",
       "      <th>mean</th>\n",
       "      <td>0.317500</td>\n",
       "      <td>587.700000</td>\n",
       "      <td>3.389900</td>\n",
       "      <td>2.48500</td>\n",
       "    </tr>\n",
       "    <tr>\n",
       "      <th>std</th>\n",
       "      <td>0.466087</td>\n",
       "      <td>115.516536</td>\n",
       "      <td>0.380567</td>\n",
       "      <td>0.94446</td>\n",
       "    </tr>\n",
       "    <tr>\n",
       "      <th>min</th>\n",
       "      <td>0.000000</td>\n",
       "      <td>220.000000</td>\n",
       "      <td>2.260000</td>\n",
       "      <td>1.00000</td>\n",
       "    </tr>\n",
       "    <tr>\n",
       "      <th>25%</th>\n",
       "      <td>0.000000</td>\n",
       "      <td>520.000000</td>\n",
       "      <td>3.130000</td>\n",
       "      <td>2.00000</td>\n",
       "    </tr>\n",
       "    <tr>\n",
       "      <th>50%</th>\n",
       "      <td>0.000000</td>\n",
       "      <td>580.000000</td>\n",
       "      <td>3.395000</td>\n",
       "      <td>2.00000</td>\n",
       "    </tr>\n",
       "    <tr>\n",
       "      <th>75%</th>\n",
       "      <td>1.000000</td>\n",
       "      <td>660.000000</td>\n",
       "      <td>3.670000</td>\n",
       "      <td>3.00000</td>\n",
       "    </tr>\n",
       "    <tr>\n",
       "      <th>max</th>\n",
       "      <td>1.000000</td>\n",
       "      <td>800.000000</td>\n",
       "      <td>4.000000</td>\n",
       "      <td>4.00000</td>\n",
       "    </tr>\n",
       "  </tbody>\n",
       "</table>\n",
       "</div>"
      ],
      "text/plain": [
       "            admit         gre         gpa   prestige\n",
       "count  400.000000  400.000000  400.000000  400.00000\n",
       "mean     0.317500  587.700000    3.389900    2.48500\n",
       "std      0.466087  115.516536    0.380567    0.94446\n",
       "min      0.000000  220.000000    2.260000    1.00000\n",
       "25%      0.000000  520.000000    3.130000    2.00000\n",
       "50%      0.000000  580.000000    3.395000    2.00000\n",
       "75%      1.000000  660.000000    3.670000    3.00000\n",
       "max      1.000000  800.000000    4.000000    4.00000"
      ]
     },
     "execution_count": 2,
     "metadata": {},
     "output_type": "execute_result"
    }
   ],
   "source": [
    "import pandas as pd\n",
    "import numpy as np\n",
    "binary=pd.read_csv('E:\\\\binary.csv')            #读取数据\n",
    "binary.rename(columns={'rank':'prestige'}, inplace = True)      #重命名\n",
    "binary.describe()"
   ]
  },
  {
   "cell_type": "code",
   "execution_count": 4,
   "metadata": {
    "ExecuteTime": {
     "end_time": "2018-12-04T01:47:58.354800Z",
     "start_time": "2018-12-04T01:47:57.592800Z"
    }
   },
   "outputs": [
    {
     "name": "stdout",
     "output_type": "stream",
     "text": [
      "[[<matplotlib.axes._subplots.AxesSubplot object at 0x0000000009169550>]]\n",
      "[[<matplotlib.axes._subplots.AxesSubplot object at 0x00000000091A9710>]]\n",
      "[[<matplotlib.axes._subplots.AxesSubplot object at 0x00000000091F19E8>]]\n",
      "[[<matplotlib.axes._subplots.AxesSubplot object at 0x0000000009237CC0>]]\n"
     ]
    },
    {
     "data": {
      "image/png": "[encoded data removed]",
      "text/plain": [
       "<Figure size 432x288 with 1 Axes>"
      ]
     },
     "metadata": {},
     "output_type": "display_data"
    },
    {
     "data": {
      "image/png": "[encoded data removed]",
      "text/plain": [
       "<Figure size 432x288 with 1 Axes>"
      ]
     },
     "metadata": {},
     "output_type": "display_data"
    },
    {
     "data": {
      "image/png": "[encoded data removed]",
      "text/plain": [
       "<Figure size 432x288 with 1 Axes>"
      ]
     },
     "metadata": {},
     "output_type": "display_data"
    },
    {
     "data": {
      "image/png": "[encoded data removed]",
      "text/plain": [
       "<Figure size 432x288 with 1 Axes>"
      ]
     },
     "metadata": {},
     "output_type": "display_data"
    }
   ],
   "source": [
    "for i in binary.columns:\n",
    "    print(binary.hist(i))                #hist方法简单方便"
   ]
  },
  {
   "cell_type": "code",
   "execution_count": 5,
   "metadata": {
    "ExecuteTime": {
     "end_time": "2018-12-03T05:06:46.857000Z",
     "start_time": "2018-12-03T05:06:46.835000Z"
    }
   },
   "outputs": [
    {
     "data": {
      "text/plain": [
       "admit         0.3175\n",
       "gre         587.7000\n",
       "gpa           3.3899\n",
       "prestige      2.4850\n",
       "dtype: float64"
      ]
     },
     "execution_count": 5,
     "metadata": {},
     "output_type": "execute_result"
    }
   ],
   "source": [
    "binary.mean()"
   ]
  },
  {
   "cell_type": "code",
   "execution_count": 6,
   "metadata": {
    "ExecuteTime": {
     "end_time": "2018-12-03T05:06:51.074000Z",
     "start_time": "2018-12-03T05:06:49.059000Z"
    }
   },
   "outputs": [
    {
     "data": {
      "text/html": [
       "<div>\n",
       "<style scoped>\n",
       "    .dataframe tbody tr th:only-of-type {\n",
       "        vertical-align: middle;\n",
       "    }\n",
       "\n",
       "    .dataframe tbody tr th {\n",
       "        vertical-align: top;\n",
       "    }\n",
       "\n",
       "    .dataframe thead th {\n",
       "        text-align: right;\n",
       "    }\n",
       "</style>\n",
       "<table border=\"1\" class=\"dataframe\">\n",
       "  <thead>\n",
       "    <tr style=\"text-align: right;\">\n",
       "      <th>prestige</th>\n",
       "      <th>1</th>\n",
       "      <th>2</th>\n",
       "      <th>3</th>\n",
       "      <th>4</th>\n",
       "    </tr>\n",
       "    <tr>\n",
       "      <th>admit</th>\n",
       "      <th></th>\n",
       "      <th></th>\n",
       "      <th></th>\n",
       "      <th></th>\n",
       "    </tr>\n",
       "  </thead>\n",
       "  <tbody>\n",
       "    <tr>\n",
       "      <th>0</th>\n",
       "      <td>28</td>\n",
       "      <td>97</td>\n",
       "      <td>93</td>\n",
       "      <td>55</td>\n",
       "    </tr>\n",
       "    <tr>\n",
       "      <th>1</th>\n",
       "      <td>33</td>\n",
       "      <td>54</td>\n",
       "      <td>28</td>\n",
       "      <td>12</td>\n",
       "    </tr>\n",
       "  </tbody>\n",
       "</table>\n",
       "</div>"
      ],
      "text/plain": [
       "prestige   1   2   3   4\n",
       "admit                   \n",
       "0         28  97  93  55\n",
       "1         33  54  28  12"
      ]
     },
     "execution_count": 6,
     "metadata": {},
     "output_type": "execute_result"
    }
   ],
   "source": [
    "pd.pivot_table(binary.iloc[:,[0,3]],index='admit',columns='prestige',aggfunc=len)  #交叉表\n",
    "# binary.pivot_table(index=['admit'], columns='prestige', aggfunc=len, margins=True)"
   ]
  },
  {
   "cell_type": "markdown",
   "metadata": {},
   "source": [
    "## 虚拟变量"
   ]
  },
  {
   "cell_type": "code",
   "execution_count": 11,
   "metadata": {
    "ExecuteTime": {
     "end_time": "2018-12-04T02:11:16.733800Z",
     "start_time": "2018-12-04T02:11:16.503800Z"
    }
   },
   "outputs": [
    {
     "data": {
      "text/html": [
       "<div>\n",
       "<style scoped>\n",
       "    .dataframe tbody tr th:only-of-type {\n",
       "        vertical-align: middle;\n",
       "    }\n",
       "\n",
       "    .dataframe tbody tr th {\n",
       "        vertical-align: top;\n",
       "    }\n",
       "\n",
       "    .dataframe thead th {\n",
       "        text-align: right;\n",
       "    }\n",
       "</style>\n",
       "<table border=\"1\" class=\"dataframe\">\n",
       "  <thead>\n",
       "    <tr style=\"text-align: right;\">\n",
       "      <th></th>\n",
       "      <th>admit</th>\n",
       "      <th>gre</th>\n",
       "      <th>gpa</th>\n",
       "      <th>intercept</th>\n",
       "      <th>pre1</th>\n",
       "      <th>pre2</th>\n",
       "      <th>pre3</th>\n",
       "    </tr>\n",
       "  </thead>\n",
       "  <tbody>\n",
       "    <tr>\n",
       "      <th>0</th>\n",
       "      <td>0</td>\n",
       "      <td>380</td>\n",
       "      <td>3.61</td>\n",
       "      <td>1</td>\n",
       "      <td>0</td>\n",
       "      <td>0</td>\n",
       "      <td>0</td>\n",
       "    </tr>\n",
       "    <tr>\n",
       "      <th>1</th>\n",
       "      <td>1</td>\n",
       "      <td>660</td>\n",
       "      <td>3.67</td>\n",
       "      <td>1</td>\n",
       "      <td>0</td>\n",
       "      <td>0</td>\n",
       "      <td>0</td>\n",
       "    </tr>\n",
       "    <tr>\n",
       "      <th>2</th>\n",
       "      <td>1</td>\n",
       "      <td>800</td>\n",
       "      <td>4.00</td>\n",
       "      <td>1</td>\n",
       "      <td>0</td>\n",
       "      <td>1</td>\n",
       "      <td>0</td>\n",
       "    </tr>\n",
       "    <tr>\n",
       "      <th>3</th>\n",
       "      <td>1</td>\n",
       "      <td>640</td>\n",
       "      <td>3.19</td>\n",
       "      <td>1</td>\n",
       "      <td>0</td>\n",
       "      <td>0</td>\n",
       "      <td>0</td>\n",
       "    </tr>\n",
       "    <tr>\n",
       "      <th>4</th>\n",
       "      <td>0</td>\n",
       "      <td>520</td>\n",
       "      <td>2.93</td>\n",
       "      <td>1</td>\n",
       "      <td>0</td>\n",
       "      <td>0</td>\n",
       "      <td>0</td>\n",
       "    </tr>\n",
       "    <tr>\n",
       "      <th>5</th>\n",
       "      <td>1</td>\n",
       "      <td>760</td>\n",
       "      <td>3.00</td>\n",
       "      <td>1</td>\n",
       "      <td>1</td>\n",
       "      <td>0</td>\n",
       "      <td>0</td>\n",
       "    </tr>\n",
       "    <tr>\n",
       "      <th>6</th>\n",
       "      <td>1</td>\n",
       "      <td>560</td>\n",
       "      <td>2.98</td>\n",
       "      <td>1</td>\n",
       "      <td>0</td>\n",
       "      <td>1</td>\n",
       "      <td>0</td>\n",
       "    </tr>\n",
       "    <tr>\n",
       "      <th>7</th>\n",
       "      <td>0</td>\n",
       "      <td>400</td>\n",
       "      <td>3.08</td>\n",
       "      <td>1</td>\n",
       "      <td>1</td>\n",
       "      <td>0</td>\n",
       "      <td>0</td>\n",
       "    </tr>\n",
       "    <tr>\n",
       "      <th>8</th>\n",
       "      <td>1</td>\n",
       "      <td>540</td>\n",
       "      <td>3.39</td>\n",
       "      <td>1</td>\n",
       "      <td>0</td>\n",
       "      <td>0</td>\n",
       "      <td>0</td>\n",
       "    </tr>\n",
       "    <tr>\n",
       "      <th>9</th>\n",
       "      <td>0</td>\n",
       "      <td>700</td>\n",
       "      <td>3.92</td>\n",
       "      <td>1</td>\n",
       "      <td>1</td>\n",
       "      <td>0</td>\n",
       "      <td>0</td>\n",
       "    </tr>\n",
       "    <tr>\n",
       "      <th>10</th>\n",
       "      <td>0</td>\n",
       "      <td>800</td>\n",
       "      <td>4.00</td>\n",
       "      <td>1</td>\n",
       "      <td>0</td>\n",
       "      <td>0</td>\n",
       "      <td>0</td>\n",
       "    </tr>\n",
       "    <tr>\n",
       "      <th>11</th>\n",
       "      <td>0</td>\n",
       "      <td>440</td>\n",
       "      <td>3.22</td>\n",
       "      <td>1</td>\n",
       "      <td>0</td>\n",
       "      <td>1</td>\n",
       "      <td>0</td>\n",
       "    </tr>\n",
       "    <tr>\n",
       "      <th>12</th>\n",
       "      <td>1</td>\n",
       "      <td>760</td>\n",
       "      <td>4.00</td>\n",
       "      <td>1</td>\n",
       "      <td>0</td>\n",
       "      <td>1</td>\n",
       "      <td>0</td>\n",
       "    </tr>\n",
       "    <tr>\n",
       "      <th>13</th>\n",
       "      <td>0</td>\n",
       "      <td>700</td>\n",
       "      <td>3.08</td>\n",
       "      <td>1</td>\n",
       "      <td>1</td>\n",
       "      <td>0</td>\n",
       "      <td>0</td>\n",
       "    </tr>\n",
       "    <tr>\n",
       "      <th>14</th>\n",
       "      <td>1</td>\n",
       "      <td>700</td>\n",
       "      <td>4.00</td>\n",
       "      <td>1</td>\n",
       "      <td>0</td>\n",
       "      <td>1</td>\n",
       "      <td>0</td>\n",
       "    </tr>\n",
       "    <tr>\n",
       "      <th>15</th>\n",
       "      <td>0</td>\n",
       "      <td>480</td>\n",
       "      <td>3.44</td>\n",
       "      <td>1</td>\n",
       "      <td>0</td>\n",
       "      <td>0</td>\n",
       "      <td>0</td>\n",
       "    </tr>\n",
       "    <tr>\n",
       "      <th>16</th>\n",
       "      <td>0</td>\n",
       "      <td>780</td>\n",
       "      <td>3.87</td>\n",
       "      <td>1</td>\n",
       "      <td>0</td>\n",
       "      <td>0</td>\n",
       "      <td>0</td>\n",
       "    </tr>\n",
       "    <tr>\n",
       "      <th>17</th>\n",
       "      <td>0</td>\n",
       "      <td>360</td>\n",
       "      <td>2.56</td>\n",
       "      <td>1</td>\n",
       "      <td>0</td>\n",
       "      <td>0</td>\n",
       "      <td>0</td>\n",
       "    </tr>\n",
       "    <tr>\n",
       "      <th>18</th>\n",
       "      <td>0</td>\n",
       "      <td>800</td>\n",
       "      <td>3.75</td>\n",
       "      <td>1</td>\n",
       "      <td>1</td>\n",
       "      <td>0</td>\n",
       "      <td>0</td>\n",
       "    </tr>\n",
       "    <tr>\n",
       "      <th>19</th>\n",
       "      <td>1</td>\n",
       "      <td>540</td>\n",
       "      <td>3.81</td>\n",
       "      <td>1</td>\n",
       "      <td>0</td>\n",
       "      <td>1</td>\n",
       "      <td>0</td>\n",
       "    </tr>\n",
       "    <tr>\n",
       "      <th>20</th>\n",
       "      <td>0</td>\n",
       "      <td>500</td>\n",
       "      <td>3.17</td>\n",
       "      <td>1</td>\n",
       "      <td>0</td>\n",
       "      <td>0</td>\n",
       "      <td>0</td>\n",
       "    </tr>\n",
       "    <tr>\n",
       "      <th>21</th>\n",
       "      <td>1</td>\n",
       "      <td>660</td>\n",
       "      <td>3.63</td>\n",
       "      <td>1</td>\n",
       "      <td>1</td>\n",
       "      <td>0</td>\n",
       "      <td>0</td>\n",
       "    </tr>\n",
       "    <tr>\n",
       "      <th>22</th>\n",
       "      <td>0</td>\n",
       "      <td>600</td>\n",
       "      <td>2.82</td>\n",
       "      <td>1</td>\n",
       "      <td>0</td>\n",
       "      <td>0</td>\n",
       "      <td>0</td>\n",
       "    </tr>\n",
       "    <tr>\n",
       "      <th>23</th>\n",
       "      <td>0</td>\n",
       "      <td>680</td>\n",
       "      <td>3.19</td>\n",
       "      <td>1</td>\n",
       "      <td>0</td>\n",
       "      <td>0</td>\n",
       "      <td>0</td>\n",
       "    </tr>\n",
       "    <tr>\n",
       "      <th>24</th>\n",
       "      <td>1</td>\n",
       "      <td>760</td>\n",
       "      <td>3.35</td>\n",
       "      <td>1</td>\n",
       "      <td>1</td>\n",
       "      <td>0</td>\n",
       "      <td>0</td>\n",
       "    </tr>\n",
       "    <tr>\n",
       "      <th>25</th>\n",
       "      <td>1</td>\n",
       "      <td>800</td>\n",
       "      <td>3.66</td>\n",
       "      <td>1</td>\n",
       "      <td>0</td>\n",
       "      <td>1</td>\n",
       "      <td>0</td>\n",
       "    </tr>\n",
       "    <tr>\n",
       "      <th>26</th>\n",
       "      <td>1</td>\n",
       "      <td>620</td>\n",
       "      <td>3.61</td>\n",
       "      <td>1</td>\n",
       "      <td>0</td>\n",
       "      <td>1</td>\n",
       "      <td>0</td>\n",
       "    </tr>\n",
       "    <tr>\n",
       "      <th>27</th>\n",
       "      <td>1</td>\n",
       "      <td>520</td>\n",
       "      <td>3.74</td>\n",
       "      <td>1</td>\n",
       "      <td>0</td>\n",
       "      <td>0</td>\n",
       "      <td>0</td>\n",
       "    </tr>\n",
       "    <tr>\n",
       "      <th>28</th>\n",
       "      <td>1</td>\n",
       "      <td>780</td>\n",
       "      <td>3.22</td>\n",
       "      <td>1</td>\n",
       "      <td>1</td>\n",
       "      <td>0</td>\n",
       "      <td>0</td>\n",
       "    </tr>\n",
       "    <tr>\n",
       "      <th>29</th>\n",
       "      <td>0</td>\n",
       "      <td>520</td>\n",
       "      <td>3.29</td>\n",
       "      <td>1</td>\n",
       "      <td>0</td>\n",
       "      <td>1</td>\n",
       "      <td>0</td>\n",
       "    </tr>\n",
       "    <tr>\n",
       "      <th>...</th>\n",
       "      <td>...</td>\n",
       "      <td>...</td>\n",
       "      <td>...</td>\n",
       "      <td>...</td>\n",
       "      <td>...</td>\n",
       "      <td>...</td>\n",
       "      <td>...</td>\n",
       "    </tr>\n",
       "    <tr>\n",
       "      <th>370</th>\n",
       "      <td>1</td>\n",
       "      <td>540</td>\n",
       "      <td>3.77</td>\n",
       "      <td>1</td>\n",
       "      <td>1</td>\n",
       "      <td>0</td>\n",
       "      <td>0</td>\n",
       "    </tr>\n",
       "    <tr>\n",
       "      <th>371</th>\n",
       "      <td>1</td>\n",
       "      <td>680</td>\n",
       "      <td>3.76</td>\n",
       "      <td>1</td>\n",
       "      <td>0</td>\n",
       "      <td>0</td>\n",
       "      <td>0</td>\n",
       "    </tr>\n",
       "    <tr>\n",
       "      <th>372</th>\n",
       "      <td>1</td>\n",
       "      <td>680</td>\n",
       "      <td>2.42</td>\n",
       "      <td>1</td>\n",
       "      <td>0</td>\n",
       "      <td>1</td>\n",
       "      <td>0</td>\n",
       "    </tr>\n",
       "    <tr>\n",
       "      <th>373</th>\n",
       "      <td>1</td>\n",
       "      <td>620</td>\n",
       "      <td>3.37</td>\n",
       "      <td>1</td>\n",
       "      <td>0</td>\n",
       "      <td>1</td>\n",
       "      <td>0</td>\n",
       "    </tr>\n",
       "    <tr>\n",
       "      <th>374</th>\n",
       "      <td>0</td>\n",
       "      <td>560</td>\n",
       "      <td>3.78</td>\n",
       "      <td>1</td>\n",
       "      <td>1</td>\n",
       "      <td>0</td>\n",
       "      <td>0</td>\n",
       "    </tr>\n",
       "    <tr>\n",
       "      <th>375</th>\n",
       "      <td>0</td>\n",
       "      <td>560</td>\n",
       "      <td>3.49</td>\n",
       "      <td>1</td>\n",
       "      <td>0</td>\n",
       "      <td>0</td>\n",
       "      <td>0</td>\n",
       "    </tr>\n",
       "    <tr>\n",
       "      <th>376</th>\n",
       "      <td>0</td>\n",
       "      <td>620</td>\n",
       "      <td>3.63</td>\n",
       "      <td>1</td>\n",
       "      <td>1</td>\n",
       "      <td>0</td>\n",
       "      <td>0</td>\n",
       "    </tr>\n",
       "    <tr>\n",
       "      <th>377</th>\n",
       "      <td>1</td>\n",
       "      <td>800</td>\n",
       "      <td>4.00</td>\n",
       "      <td>1</td>\n",
       "      <td>1</td>\n",
       "      <td>0</td>\n",
       "      <td>0</td>\n",
       "    </tr>\n",
       "    <tr>\n",
       "      <th>378</th>\n",
       "      <td>0</td>\n",
       "      <td>640</td>\n",
       "      <td>3.12</td>\n",
       "      <td>1</td>\n",
       "      <td>0</td>\n",
       "      <td>0</td>\n",
       "      <td>0</td>\n",
       "    </tr>\n",
       "    <tr>\n",
       "      <th>379</th>\n",
       "      <td>0</td>\n",
       "      <td>540</td>\n",
       "      <td>2.70</td>\n",
       "      <td>1</td>\n",
       "      <td>1</td>\n",
       "      <td>0</td>\n",
       "      <td>0</td>\n",
       "    </tr>\n",
       "    <tr>\n",
       "      <th>380</th>\n",
       "      <td>0</td>\n",
       "      <td>700</td>\n",
       "      <td>3.65</td>\n",
       "      <td>1</td>\n",
       "      <td>1</td>\n",
       "      <td>0</td>\n",
       "      <td>0</td>\n",
       "    </tr>\n",
       "    <tr>\n",
       "      <th>381</th>\n",
       "      <td>1</td>\n",
       "      <td>540</td>\n",
       "      <td>3.49</td>\n",
       "      <td>1</td>\n",
       "      <td>1</td>\n",
       "      <td>0</td>\n",
       "      <td>0</td>\n",
       "    </tr>\n",
       "    <tr>\n",
       "      <th>382</th>\n",
       "      <td>0</td>\n",
       "      <td>540</td>\n",
       "      <td>3.51</td>\n",
       "      <td>1</td>\n",
       "      <td>1</td>\n",
       "      <td>0</td>\n",
       "      <td>0</td>\n",
       "    </tr>\n",
       "    <tr>\n",
       "      <th>383</th>\n",
       "      <td>0</td>\n",
       "      <td>660</td>\n",
       "      <td>4.00</td>\n",
       "      <td>1</td>\n",
       "      <td>0</td>\n",
       "      <td>1</td>\n",
       "      <td>0</td>\n",
       "    </tr>\n",
       "    <tr>\n",
       "      <th>384</th>\n",
       "      <td>1</td>\n",
       "      <td>480</td>\n",
       "      <td>2.62</td>\n",
       "      <td>1</td>\n",
       "      <td>1</td>\n",
       "      <td>0</td>\n",
       "      <td>0</td>\n",
       "    </tr>\n",
       "    <tr>\n",
       "      <th>385</th>\n",
       "      <td>0</td>\n",
       "      <td>420</td>\n",
       "      <td>3.02</td>\n",
       "      <td>1</td>\n",
       "      <td>0</td>\n",
       "      <td>1</td>\n",
       "      <td>0</td>\n",
       "    </tr>\n",
       "    <tr>\n",
       "      <th>386</th>\n",
       "      <td>1</td>\n",
       "      <td>740</td>\n",
       "      <td>3.86</td>\n",
       "      <td>1</td>\n",
       "      <td>1</td>\n",
       "      <td>0</td>\n",
       "      <td>0</td>\n",
       "    </tr>\n",
       "    <tr>\n",
       "      <th>387</th>\n",
       "      <td>0</td>\n",
       "      <td>580</td>\n",
       "      <td>3.36</td>\n",
       "      <td>1</td>\n",
       "      <td>1</td>\n",
       "      <td>0</td>\n",
       "      <td>0</td>\n",
       "    </tr>\n",
       "    <tr>\n",
       "      <th>388</th>\n",
       "      <td>0</td>\n",
       "      <td>640</td>\n",
       "      <td>3.17</td>\n",
       "      <td>1</td>\n",
       "      <td>1</td>\n",
       "      <td>0</td>\n",
       "      <td>0</td>\n",
       "    </tr>\n",
       "    <tr>\n",
       "      <th>389</th>\n",
       "      <td>0</td>\n",
       "      <td>640</td>\n",
       "      <td>3.51</td>\n",
       "      <td>1</td>\n",
       "      <td>1</td>\n",
       "      <td>0</td>\n",
       "      <td>0</td>\n",
       "    </tr>\n",
       "    <tr>\n",
       "      <th>390</th>\n",
       "      <td>1</td>\n",
       "      <td>800</td>\n",
       "      <td>3.05</td>\n",
       "      <td>1</td>\n",
       "      <td>1</td>\n",
       "      <td>0</td>\n",
       "      <td>0</td>\n",
       "    </tr>\n",
       "    <tr>\n",
       "      <th>391</th>\n",
       "      <td>1</td>\n",
       "      <td>660</td>\n",
       "      <td>3.88</td>\n",
       "      <td>1</td>\n",
       "      <td>1</td>\n",
       "      <td>0</td>\n",
       "      <td>0</td>\n",
       "    </tr>\n",
       "    <tr>\n",
       "      <th>392</th>\n",
       "      <td>1</td>\n",
       "      <td>600</td>\n",
       "      <td>3.38</td>\n",
       "      <td>1</td>\n",
       "      <td>0</td>\n",
       "      <td>0</td>\n",
       "      <td>0</td>\n",
       "    </tr>\n",
       "    <tr>\n",
       "      <th>393</th>\n",
       "      <td>1</td>\n",
       "      <td>620</td>\n",
       "      <td>3.75</td>\n",
       "      <td>1</td>\n",
       "      <td>1</td>\n",
       "      <td>0</td>\n",
       "      <td>0</td>\n",
       "    </tr>\n",
       "    <tr>\n",
       "      <th>394</th>\n",
       "      <td>1</td>\n",
       "      <td>460</td>\n",
       "      <td>3.99</td>\n",
       "      <td>1</td>\n",
       "      <td>0</td>\n",
       "      <td>0</td>\n",
       "      <td>0</td>\n",
       "    </tr>\n",
       "    <tr>\n",
       "      <th>395</th>\n",
       "      <td>0</td>\n",
       "      <td>620</td>\n",
       "      <td>4.00</td>\n",
       "      <td>1</td>\n",
       "      <td>1</td>\n",
       "      <td>0</td>\n",
       "      <td>0</td>\n",
       "    </tr>\n",
       "    <tr>\n",
       "      <th>396</th>\n",
       "      <td>0</td>\n",
       "      <td>560</td>\n",
       "      <td>3.04</td>\n",
       "      <td>1</td>\n",
       "      <td>0</td>\n",
       "      <td>0</td>\n",
       "      <td>0</td>\n",
       "    </tr>\n",
       "    <tr>\n",
       "      <th>397</th>\n",
       "      <td>0</td>\n",
       "      <td>460</td>\n",
       "      <td>2.63</td>\n",
       "      <td>1</td>\n",
       "      <td>1</td>\n",
       "      <td>0</td>\n",
       "      <td>0</td>\n",
       "    </tr>\n",
       "    <tr>\n",
       "      <th>398</th>\n",
       "      <td>0</td>\n",
       "      <td>700</td>\n",
       "      <td>3.65</td>\n",
       "      <td>1</td>\n",
       "      <td>1</td>\n",
       "      <td>0</td>\n",
       "      <td>0</td>\n",
       "    </tr>\n",
       "    <tr>\n",
       "      <th>399</th>\n",
       "      <td>0</td>\n",
       "      <td>600</td>\n",
       "      <td>3.89</td>\n",
       "      <td>1</td>\n",
       "      <td>0</td>\n",
       "      <td>0</td>\n",
       "      <td>0</td>\n",
       "    </tr>\n",
       "  </tbody>\n",
       "</table>\n",
       "<p>400 rows × 7 columns</p>\n",
       "</div>"
      ],
      "text/plain": [
       "     admit  gre   gpa  intercept  pre1  pre2  pre3\n",
       "0        0  380  3.61          1     0     0     0\n",
       "1        1  660  3.67          1     0     0     0\n",
       "2        1  800  4.00          1     0     1     0\n",
       "3        1  640  3.19          1     0     0     0\n",
       "4        0  520  2.93          1     0     0     0\n",
       "5        1  760  3.00          1     1     0     0\n",
       "6        1  560  2.98          1     0     1     0\n",
       "7        0  400  3.08          1     1     0     0\n",
       "8        1  540  3.39          1     0     0     0\n",
       "9        0  700  3.92          1     1     0     0\n",
       "10       0  800  4.00          1     0     0     0\n",
       "11       0  440  3.22          1     0     1     0\n",
       "12       1  760  4.00          1     0     1     0\n",
       "13       0  700  3.08          1     1     0     0\n",
       "14       1  700  4.00          1     0     1     0\n",
       "15       0  480  3.44          1     0     0     0\n",
       "16       0  780  3.87          1     0     0     0\n",
       "17       0  360  2.56          1     0     0     0\n",
       "18       0  800  3.75          1     1     0     0\n",
       "19       1  540  3.81          1     0     1     0\n",
       "20       0  500  3.17          1     0     0     0\n",
       "21       1  660  3.63          1     1     0     0\n",
       "22       0  600  2.82          1     0     0     0\n",
       "23       0  680  3.19          1     0     0     0\n",
       "24       1  760  3.35          1     1     0     0\n",
       "25       1  800  3.66          1     0     1     0\n",
       "26       1  620  3.61          1     0     1     0\n",
       "27       1  520  3.74          1     0     0     0\n",
       "28       1  780  3.22          1     1     0     0\n",
       "29       0  520  3.29          1     0     1     0\n",
       "..     ...  ...   ...        ...   ...   ...   ...\n",
       "370      1  540  3.77          1     1     0     0\n",
       "371      1  680  3.76          1     0     0     0\n",
       "372      1  680  2.42          1     0     1     0\n",
       "373      1  620  3.37          1     0     1     0\n",
       "374      0  560  3.78          1     1     0     0\n",
       "375      0  560  3.49          1     0     0     0\n",
       "376      0  620  3.63          1     1     0     0\n",
       "377      1  800  4.00          1     1     0     0\n",
       "378      0  640  3.12          1     0     0     0\n",
       "379      0  540  2.70          1     1     0     0\n",
       "380      0  700  3.65          1     1     0     0\n",
       "381      1  540  3.49          1     1     0     0\n",
       "382      0  540  3.51          1     1     0     0\n",
       "383      0  660  4.00          1     0     1     0\n",
       "384      1  480  2.62          1     1     0     0\n",
       "385      0  420  3.02          1     0     1     0\n",
       "386      1  740  3.86          1     1     0     0\n",
       "387      0  580  3.36          1     1     0     0\n",
       "388      0  640  3.17          1     1     0     0\n",
       "389      0  640  3.51          1     1     0     0\n",
       "390      1  800  3.05          1     1     0     0\n",
       "391      1  660  3.88          1     1     0     0\n",
       "392      1  600  3.38          1     0     0     0\n",
       "393      1  620  3.75          1     1     0     0\n",
       "394      1  460  3.99          1     0     0     0\n",
       "395      0  620  4.00          1     1     0     0\n",
       "396      0  560  3.04          1     0     0     0\n",
       "397      0  460  2.63          1     1     0     0\n",
       "398      0  700  3.65          1     1     0     0\n",
       "399      0  600  3.89          1     0     0     0\n",
       "\n",
       "[400 rows x 7 columns]"
      ]
     },
     "execution_count": 11,
     "metadata": {},
     "output_type": "execute_result"
    }
   ],
   "source": [
    "for i in ['pre1','pre2','pre3']:             #设置三个虚拟变量\n",
    "    binary[i]=0\n",
    "for i in range(len(binary.index)):\n",
    "    if binary.iloc[i,3]==1:\n",
    "        binary.iloc[i,6]=1\n",
    "        \n",
    "    if binary.iloc[i,3]==2:\n",
    "        binary.iloc[i,5]=1\n",
    "\n",
    "    if binary.iloc[i,3]==3:\n",
    "        binary.iloc[i,4]=1\n",
    "binary.drop('prestige',axis=1,inplace=True)\n",
    "binary"
   ]
  },
  {
   "cell_type": "markdown",
   "metadata": {},
   "source": [
    "# 拟合模型"
   ]
  },
  {
   "cell_type": "code",
   "execution_count": 6,
   "metadata": {
    "ExecuteTime": {
     "end_time": "2018-12-04T02:05:32.005800Z",
     "start_time": "2018-12-04T02:05:18.441800Z"
    }
   },
   "outputs": [
    {
     "name": "stdout",
     "output_type": "stream",
     "text": [
      "Optimization terminated successfully.\n",
      "         Current function value: 0.574302\n",
      "         Iterations 6\n",
      "                           Logit Regression Results                           \n",
      "==============================================================================\n",
      "Dep. Variable:                  admit   No. Observations:                  400\n",
      "Model:                          Logit   Df Residuals:                      396\n",
      "Method:                           MLE   Df Model:                            3\n",
      "Date:                Tue, 04 Dec 2018   Pseudo R-squ.:                 0.08107\n",
      "Time:                        10:05:31   Log-Likelihood:                -229.72\n",
      "converged:                       True   LL-Null:                       -249.99\n",
      "                                        LLR p-value:                 8.207e-09\n",
      "==============================================================================\n",
      "                 coef    std err          z      P>|z|      [0.025      0.975]\n",
      "------------------------------------------------------------------------------\n",
      "gre            0.0023      0.001      2.101      0.036       0.000       0.004\n",
      "gpa            0.7770      0.327      2.373      0.018       0.135       1.419\n",
      "prestige      -0.5600      0.127     -4.405      0.000      -0.809      -0.311\n",
      "intercept     -3.4495      1.133     -3.045      0.002      -5.670      -1.229\n",
      "============================================================================== gre          0.002294\n",
      "gpa          0.777014\n",
      "prestige    -0.560031\n",
      "intercept   -3.449548\n",
      "dtype: float64\n"
     ]
    }
   ],
   "source": [
    "import statsmodels.api as sm    #调用statsmodels里面的api，通过api调用相当于调用了statsmodels.regression.linear_model，可以使用linear_model文件里的函数\n",
    "binary['intercept']=1\n",
    "spector_data = sm.datasets.spector.load()  #读取样例的数据集\n",
    "spector_data.exog = sm.add_constant(binary['intercept'], prepend=False)\n",
    "# Fit and summarize OLS model\n",
    "x = sm.add_constant(binary['intercept'])\n",
    "cols=binary.columns[1:]\n",
    "mod = sm.Logit(binary['admit'],binary[cols])\n",
    "res = mod.fit()\n",
    "print(res.summary(),res.params)"
   ]
  },
  {
   "cell_type": "markdown",
   "metadata": {},
   "source": [
    "# 训练模型并预测"
   ]
  },
  {
   "cell_type": "code",
   "execution_count": 8,
   "metadata": {
    "ExecuteTime": {
     "end_time": "2018-12-04T02:06:32.845800Z",
     "start_time": "2018-12-04T02:06:32.822800Z"
    }
   },
   "outputs": [
    {
     "name": "stdout",
     "output_type": "stream",
     "text": [
      "Total: 49, Hit: 29, Precision: 59.18\n"
     ]
    }
   ],
   "source": [
    "import copy\n",
    "cop = copy.deepcopy(binary)\n",
    "cop['intercept'] = 1.0\n",
    "cop['predict'] = res.predict(cop[cop.columns[1:]])\n",
    "total = 0\n",
    "hit = 0\n",
    "for value in cop.values:\n",
    "  # 预测分数 predict, 是数据中的最后一列\n",
    "  predict = value[-1]\n",
    "  # 实际录取结果\n",
    "  admit = int(value[0])\n",
    " \n",
    "  # 假定预测概率大于0.5则表示预测被录取\n",
    "  if predict > 0.5:\n",
    "    total += 1\n",
    "    if admit == 1:\n",
    "      hit += 1\n",
    "\n",
    "print ('Total: %d, Hit: %d, Precision: %.2f' % (total, hit, 100.0*hit/total))"
   ]
  },
  {
   "cell_type": "markdown",
   "metadata": {},
   "source": [
    "# 第二题："
   ]
  },
  {
   "cell_type": "code",
   "execution_count": 17,
   "metadata": {
    "ExecuteTime": {
     "end_time": "2018-12-04T02:12:23.914800Z",
     "start_time": "2018-12-04T02:12:23.878800Z"
    }
   },
   "outputs": [
    {
     "data": {
      "text/plain": [
       "DesignMatrix with shape (400, 7)\n",
       "  Intercept  gre   gpa  pre1  pre2  pre3  intercept\n",
       "          1  380  3.61     0     0     0          1\n",
       "          1  660  3.67     0     0     0          1\n",
       "          1  800  4.00     0     1     0          1\n",
       "          1  640  3.19     0     0     0          1\n",
       "          1  520  2.93     0     0     0          1\n",
       "          1  760  3.00     1     0     0          1\n",
       "          1  560  2.98     0     1     0          1\n",
       "          1  400  3.08     1     0     0          1\n",
       "          1  540  3.39     0     0     0          1\n",
       "          1  700  3.92     1     0     0          1\n",
       "          1  800  4.00     0     0     0          1\n",
       "          1  440  3.22     0     1     0          1\n",
       "          1  760  4.00     0     1     0          1\n",
       "          1  700  3.08     1     0     0          1\n",
       "          1  700  4.00     0     1     0          1\n",
       "          1  480  3.44     0     0     0          1\n",
       "          1  780  3.87     0     0     0          1\n",
       "          1  360  2.56     0     0     0          1\n",
       "          1  800  3.75     1     0     0          1\n",
       "          1  540  3.81     0     1     0          1\n",
       "          1  500  3.17     0     0     0          1\n",
       "          1  660  3.63     1     0     0          1\n",
       "          1  600  2.82     0     0     0          1\n",
       "          1  680  3.19     0     0     0          1\n",
       "          1  760  3.35     1     0     0          1\n",
       "          1  800  3.66     0     1     0          1\n",
       "          1  620  3.61     0     1     0          1\n",
       "          1  520  3.74     0     0     0          1\n",
       "          1  780  3.22     1     0     0          1\n",
       "          1  520  3.29     0     1     0          1\n",
       "  [370 rows omitted]\n",
       "  Terms:\n",
       "    'Intercept' (column 0)\n",
       "    'gre' (column 1)\n",
       "    'gpa' (column 2)\n",
       "    'pre1' (column 3)\n",
       "    'pre2' (column 4)\n",
       "    'pre3' (column 5)\n",
       "    'intercept' (column 6)\n",
       "  (to view full data, use np.asarray(this_obj))"
      ]
     },
     "execution_count": 17,
     "metadata": {},
     "output_type": "execute_result"
    }
   ],
   "source": [
    "import patsy\n",
    "y, X = patsy.dmatrices('admit ~ gre+gpa+pre1+pre2+pre3+intercept', binary)\n",
    "X"
   ]
  },
  {
   "cell_type": "markdown",
   "metadata": {},
   "source": [
    "# OLS模型构建"
   ]
  },
  {
   "cell_type": "code",
   "execution_count": 18,
   "metadata": {
    "ExecuteTime": {
     "end_time": "2018-12-04T02:12:31.868800Z",
     "start_time": "2018-12-04T02:12:31.822800Z"
    },
    "scrolled": true
   },
   "outputs": [
    {
     "name": "stdout",
     "output_type": "stream",
     "text": [
      "                            OLS Regression Results                            \n",
      "==============================================================================\n",
      "Dep. Variable:                  admit   R-squared:                       0.100\n",
      "Model:                            OLS   Adj. R-squared:                  0.091\n",
      "Method:                 Least Squares   F-statistic:                     10.96\n",
      "Date:                Tue, 04 Dec 2018   Prob (F-statistic):           1.95e-08\n",
      "Time:                        10:12:31   Log-Likelihood:                -240.68\n",
      "No. Observations:                 400   AIC:                             491.4\n",
      "Df Residuals:                     395   BIC:                             511.3\n",
      "Df Model:                           4                                         \n",
      "Covariance Type:            nonrobust                                         \n",
      "==============================================================================\n",
      "                 coef    std err          t      P>|t|      [0.025      0.975]\n",
      "------------------------------------------------------------------------------\n",
      "Intercept     -0.2850      0.103     -2.780      0.006      -0.487      -0.083\n",
      "gre            0.0004      0.000      2.028      0.043    1.31e-05       0.001\n",
      "gpa            0.1586      0.064      2.496      0.013       0.034       0.284\n",
      "pre1           0.1399      0.049      2.861      0.004       0.044       0.236\n",
      "pre2           0.3021      0.066      4.582      0.000       0.172       0.432\n",
      "pre3                0          0        nan        nan           0           0\n",
      "intercept     -0.2850      0.103     -2.780      0.006      -0.487      -0.083\n",
      "==============================================================================\n",
      "Omnibus:                      150.845   Durbin-Watson:                   1.959\n",
      "Prob(Omnibus):                  0.000   Jarque-Bera (JB):               50.494\n",
      "Skew:                           0.678   Prob(JB):                     1.08e-11\n",
      "Kurtosis:                       1.908   Cond. No.                     7.71e+34\n",
      "==============================================================================\n",
      "\n",
      "Warnings:\n",
      "[1] Standard Errors assume that the covariance matrix of the errors is correctly specified.\n",
      "[2] The smallest eigenvalue is 2.41e-62. This might indicate that there are\n",
      "strong multicollinearity problems or that the design matrix is singular. [-0.28501762  0.00042687  0.15864152  0.13992809  0.30205197  0.\n",
      " -0.28501762]\n"
     ]
    },
    {
     "name": "stderr",
     "output_type": "stream",
     "text": [
      "C:\\Users\\Administrator\\Anaconda3\\lib\\site-packages\\statsmodels\\base\\model.py:1100: RuntimeWarning: invalid value encountered in true_divide\n",
      "  return self.params / self.bse\n",
      "C:\\Users\\Administrator\\Anaconda3\\lib\\site-packages\\scipy\\stats\\_distn_infrastructure.py:879: RuntimeWarning: invalid value encountered in greater\n",
      "  return (self.a < x) & (x < self.b)\n",
      "C:\\Users\\Administrator\\Anaconda3\\lib\\site-packages\\scipy\\stats\\_distn_infrastructure.py:879: RuntimeWarning: invalid value encountered in less\n",
      "  return (self.a < x) & (x < self.b)\n",
      "C:\\Users\\Administrator\\Anaconda3\\lib\\site-packages\\scipy\\stats\\_distn_infrastructure.py:1821: RuntimeWarning: invalid value encountered in less_equal\n",
      "  cond2 = cond0 & (x <= self.a)\n"
     ]
    }
   ],
   "source": [
    "import statsmodels.api as sm    #调用statsmodels里面的api，通过api调用相当于调用了statsmodels.regression.linear_model，可以使用linear_model文件里的函数\n",
    "mod = sm.OLS(y,X)\n",
    "res = mod.fit()\n",
    "print(res.summary(),res.params)"
   ]
  },
  {
   "cell_type": "markdown",
   "metadata": {},
   "source": [
    "# 复制解释变量X"
   ]
  },
  {
   "cell_type": "code",
   "execution_count": 19,
   "metadata": {
    "ExecuteTime": {
     "end_time": "2018-12-04T02:12:39.757800Z",
     "start_time": "2018-12-04T02:12:39.727800Z"
    }
   },
   "outputs": [
    {
     "data": {
      "text/plain": [
       "[DesignMatrix with shape (400, 7)\n",
       "   Intercept  gre   gpa  pre1  pre2  pre3  intercept\n",
       "           1  380  3.61     0     0     0          1\n",
       "           1  660  3.67     0     0     0          1\n",
       "           1  800  4.00     0     1     0          1\n",
       "           1  640  3.19     0     0     0          1\n",
       "           1  520  2.93     0     0     0          1\n",
       "           1  760  3.00     1     0     0          1\n",
       "           1  560  2.98     0     1     0          1\n",
       "           1  400  3.08     1     0     0          1\n",
       "           1  540  3.39     0     0     0          1\n",
       "           1  700  3.92     1     0     0          1\n",
       "           1  800  4.00     0     0     0          1\n",
       "           1  440  3.22     0     1     0          1\n",
       "           1  760  4.00     0     1     0          1\n",
       "           1  700  3.08     1     0     0          1\n",
       "           1  700  4.00     0     1     0          1\n",
       "           1  480  3.44     0     0     0          1\n",
       "           1  780  3.87     0     0     0          1\n",
       "           1  360  2.56     0     0     0          1\n",
       "           1  800  3.75     1     0     0          1\n",
       "           1  540  3.81     0     1     0          1\n",
       "           1  500  3.17     0     0     0          1\n",
       "           1  660  3.63     1     0     0          1\n",
       "           1  600  2.82     0     0     0          1\n",
       "           1  680  3.19     0     0     0          1\n",
       "           1  760  3.35     1     0     0          1\n",
       "           1  800  3.66     0     1     0          1\n",
       "           1  620  3.61     0     1     0          1\n",
       "           1  520  3.74     0     0     0          1\n",
       "           1  780  3.22     1     0     0          1\n",
       "           1  520  3.29     0     1     0          1\n",
       "   [370 rows omitted]\n",
       "   Terms:\n",
       "     'Intercept' (column 0)\n",
       "     'gre' (column 1)\n",
       "     'gpa' (column 2)\n",
       "     'pre1' (column 3)\n",
       "     'pre2' (column 4)\n",
       "     'pre3' (column 5)\n",
       "     'intercept' (column 6)\n",
       "   (to view full data, use np.asarray(this_obj))]"
      ]
     },
     "execution_count": 19,
     "metadata": {},
     "output_type": "execute_result"
    }
   ],
   "source": [
    "cop = copy.deepcopy(binary)\n",
    "newX = patsy.build_design_matrices([X.design_info], cop)\n",
    "newX"
   ]
  },
  {
   "cell_type": "markdown",
   "metadata": {},
   "source": [
    "# 利用newX进行测试："
   ]
  },
  {
   "cell_type": "code",
   "execution_count": 21,
   "metadata": {
    "ExecuteTime": {
     "end_time": "2018-12-04T02:13:05.947800Z",
     "start_time": "2018-12-04T02:13:05.933800Z"
    }
   },
   "outputs": [
    {
     "name": "stdout",
     "output_type": "stream",
     "text": [
      "Total: 47, Hit: 30, Precision: 63.83\n"
     ]
    }
   ],
   "source": [
    "cop['predict'] = res.predict(newX)\n",
    "total = 0\n",
    "hit = 0\n",
    "for value in cop.values:\n",
    "  # 预测分数 predict, 是数据中的最后一列\n",
    "  predict = value[-1]\n",
    "  # 实际录取结果\n",
    "  admit = int(value[0])\n",
    " \n",
    "  # 假定预测概率大于0.5则表示预测被录取\n",
    "  if predict > 0.5:\n",
    "    total += 1\n",
    "    # 表示预测命中\n",
    "    if admit == 1:\n",
    "      hit += 1\n",
    "\n",
    "print ('Total: %d, Hit: %d, Precision: %.2f' % (total, hit, 100.0*hit/total))"
   ]
  },
  {
   "cell_type": "markdown",
   "metadata": {},
   "source": [
    "# 第三题："
   ]
  },
  {
   "cell_type": "markdown",
   "metadata": {},
   "source": [
    "# 模型构建，利用LogisticRegression"
   ]
  },
  {
   "cell_type": "code",
   "execution_count": 22,
   "metadata": {
    "ExecuteTime": {
     "end_time": "2018-12-04T02:23:09.424800Z",
     "start_time": "2018-12-04T02:23:06.339800Z"
    }
   },
   "outputs": [
    {
     "name": "stdout",
     "output_type": "stream",
     "text": [
      "<bound method ClassifierMixin.score of LogisticRegression(C=1.0, class_weight=None, dual=False, fit_intercept=True,\n",
      "          intercept_scaling=1, max_iter=100, multi_class='ovr', n_jobs=1,\n",
      "          penalty='l2', random_state=None, solver='liblinear', tol=0.0001,\n",
      "          verbose=0, warm_start=False)>\n"
     ]
    },
    {
     "name": "stderr",
     "output_type": "stream",
     "text": [
      "C:\\Users\\Administrator\\Anaconda3\\lib\\site-packages\\sklearn\\utils\\validation.py:578: DataConversionWarning: A column-vector y was passed when a 1d array was expected. Please change the shape of y to (n_samples, ), for example using ravel().\n",
      "  y = column_or_1d(y, warn=True)\n"
     ]
    }
   ],
   "source": [
    "import statsmodels.api as sm    #调用statsmodels里面的api，通过api调用相当于调用了statsmodels.regression.linear_model，可以使用linear_model文件里的函数\n",
    "from sklearn import metrics\n",
    "from sklearn.linear_model import LogisticRegression\n",
    "mod = LogisticRegression()\n",
    "res = mod.fit(X,y)\n",
    "print(res.score)"
   ]
  },
  {
   "cell_type": "code",
   "execution_count": 22,
   "metadata": {
    "ExecuteTime": {
     "end_time": "2018-12-03T05:17:24.677000Z",
     "start_time": "2018-12-03T05:17:24.638000Z"
    }
   },
   "outputs": [
    {
     "name": "stdout",
     "output_type": "stream",
     "text": [
      "Total: 37, Hit: 24, Precision: 64.86\n"
     ]
    }
   ],
   "source": [
    "cop['predict'] = res.predict(X)\n",
    "total = 0\n",
    "hit = 0\n",
    "for value in cop.values:\n",
    "  # 预测分数 predict, 是数据中的最后一列\n",
    "  predict = value[-1]\n",
    "  # 实际录取结果\n",
    "  admit = int(value[0])\n",
    "  # 假定预测概率大于0.5则表示预测被录取\n",
    "  if predict > 0.5:\n",
    "    total += 1\n",
    "    # 表示预测命中\n",
    "    if admit == 1:\n",
    "      hit += 1\n",
    "\n",
    "print ('Total: %d, Hit: %d, Precision: %.2f' % (total, hit, 100.0*hit/total))"
   ]
  },
  {
   "cell_type": "markdown",
   "metadata": {},
   "source": [
    "# logisticRegressionCV"
   ]
  },
  {
   "cell_type": "code",
   "execution_count": 24,
   "metadata": {
    "ExecuteTime": {
     "end_time": "2018-12-03T05:20:45.941000Z",
     "start_time": "2018-12-03T05:20:44.570000Z"
    }
   },
   "outputs": [
    {
     "name": "stderr",
     "output_type": "stream",
     "text": [
      "C:\\Users\\Administrator\\Anaconda3\\lib\\site-packages\\sklearn\\utils\\validation.py:578: DataConversionWarning: A column-vector y was passed when a 1d array was expected. Please change the shape of y to (n_samples, ), for example using ravel().\n",
      "  y = column_or_1d(y, warn=True)\n"
     ]
    },
    {
     "name": "stdout",
     "output_type": "stream",
     "text": [
      "<bound method ClassifierMixin.score of LogisticRegressionCV(Cs=10, class_weight=None, cv=None, dual=False,\n",
      "           fit_intercept=True, intercept_scaling=1.0, max_iter=100,\n",
      "           multi_class='ovr', n_jobs=1, penalty='l2', random_state=None,\n",
      "           refit=True, scoring=None, solver='lbfgs', tol=0.0001, verbose=0)>\n"
     ]
    }
   ],
   "source": [
    "import statsmodels.api as sm    #调用statsmodels里面的api，通过api调用相当于调用了statsmodels.regression.linear_model，可以使用linear_model文件里的函数\n",
    "from sklearn.linear_model import LogisticRegression, LogisticRegressionCV\n",
    "mod = LogisticRegressionCV(10)\n",
    "res = mod.fit(X,y)\n",
    "print(res.score)"
   ]
  },
  {
   "cell_type": "code",
   "execution_count": 25,
   "metadata": {
    "ExecuteTime": {
     "end_time": "2018-12-03T05:22:20.405000Z",
     "start_time": "2018-12-03T05:22:20.381000Z"
    }
   },
   "outputs": [
    {
     "name": "stdout",
     "output_type": "stream",
     "text": [
      "Total: 48, Hit: 29, Precision: 60.42\n"
     ]
    }
   ],
   "source": [
    "cop['predict'] = res.predict(X)\n",
    "total = 0\n",
    "hit = 0\n",
    "for value in cop.values:\n",
    "  # 预测分数 predict, 是数据中的最后一列\n",
    "  predict = value[-1]\n",
    "  # 实际录取结果\n",
    "  admit = int(value[0])\n",
    "  # 假定预测概率大于0.5则表示预测被录取\n",
    "  if predict > 0.5:\n",
    "    total += 1\n",
    "    # 表示预测命中\n",
    "    if admit == 1:\n",
    "      hit += 1\n",
    "\n",
    "print ('Total: %d, Hit: %d, Precision: %.2f' % (total, hit, 100.0*hit/total))"
   ]
  },
  {
   "cell_type": "markdown",
   "metadata": {},
   "source": [
    "# 用train_test_split分开："
   ]
  },
  {
   "cell_type": "code",
   "execution_count": 25,
   "metadata": {
    "ExecuteTime": {
     "end_time": "2018-12-04T02:32:37.430800Z",
     "start_time": "2018-12-04T02:32:37.418800Z"
    }
   },
   "outputs": [],
   "source": [
    "from sklearn.model_selection import train_test_split\n",
    "Xtrain,Xtest,ytrain,ytest=train_test_split(X,y,test_size=0.33,random_state=20)"
   ]
  },
  {
   "cell_type": "markdown",
   "metadata": {},
   "source": [
    "# LogisticRegression训练和测试"
   ]
  },
  {
   "cell_type": "code",
   "execution_count": 26,
   "metadata": {
    "ExecuteTime": {
     "end_time": "2018-12-04T02:32:39.024800Z",
     "start_time": "2018-12-04T02:32:39.001800Z"
    }
   },
   "outputs": [
    {
     "name": "stdout",
     "output_type": "stream",
     "text": [
      "LogisticRegression(C=1.0, class_weight=None, dual=False, fit_intercept=True,\n",
      "          intercept_scaling=1, max_iter=100, multi_class='ovr', n_jobs=1,\n",
      "          penalty='l2', random_state=None, solver='liblinear', tol=0.0001,\n",
      "          verbose=0, warm_start=False)\n"
     ]
    },
    {
     "name": "stderr",
     "output_type": "stream",
     "text": [
      "C:\\Users\\Administrator\\Anaconda3\\lib\\site-packages\\sklearn\\utils\\validation.py:578: DataConversionWarning: A column-vector y was passed when a 1d array was expected. Please change the shape of y to (n_samples, ), for example using ravel().\n",
      "  y = column_or_1d(y, warn=True)\n"
     ]
    }
   ],
   "source": [
    "from sklearn import metrics\n",
    "from sklearn.linear_model import LogisticRegression\n",
    "model = LogisticRegression()               \n",
    "model.fit(Xtrain, ytrain)             #训练集\n",
    "print(model)"
   ]
  },
  {
   "cell_type": "code",
   "execution_count": 27,
   "metadata": {
    "ExecuteTime": {
     "end_time": "2018-12-04T02:32:41.806800Z",
     "start_time": "2018-12-04T02:32:41.788800Z"
    }
   },
   "outputs": [
    {
     "name": "stdout",
     "output_type": "stream",
     "text": [
      "Total: 38, Hit: 25, Precision: 65.79\n"
     ]
    }
   ],
   "source": [
    "cop['predict'] = res.predict(X)\n",
    "total = 0\n",
    "hit = 0\n",
    "for value in cop.values:\n",
    "  # 预测分数 predict, 是数据中的最后一列\n",
    "  predict = value[-1]\n",
    "  # 实际录取结果\n",
    "  admit = int(value[0])\n",
    "  # 假定预测概率大于0.5则表示预测被录取\n",
    "  if predict > 0.5:\n",
    "    total += 1\n",
    "    # 表示预测命中\n",
    "    if admit == 1:\n",
    "      hit += 1\n",
    "\n",
    "print ('Total: %d, Hit: %d, Precision: %.2f' % (total, hit, 100.0*hit/total))"
   ]
  },
  {
   "cell_type": "markdown",
   "metadata": {},
   "source": [
    "# LogisticRegressionCV训练和测试"
   ]
  },
  {
   "cell_type": "code",
   "execution_count": 28,
   "metadata": {
    "ExecuteTime": {
     "end_time": "2018-12-04T02:32:44.258800Z",
     "start_time": "2018-12-04T02:32:43.783800Z"
    }
   },
   "outputs": [
    {
     "name": "stderr",
     "output_type": "stream",
     "text": [
      "C:\\Users\\Administrator\\Anaconda3\\lib\\site-packages\\sklearn\\utils\\validation.py:578: DataConversionWarning: A column-vector y was passed when a 1d array was expected. Please change the shape of y to (n_samples, ), for example using ravel().\n",
      "  y = column_or_1d(y, warn=True)\n"
     ]
    },
    {
     "name": "stdout",
     "output_type": "stream",
     "text": [
      "<bound method ClassifierMixin.score of LogisticRegressionCV(Cs=10, class_weight=None, cv=None, dual=False,\n",
      "           fit_intercept=True, intercept_scaling=1.0, max_iter=100,\n",
      "           multi_class='ovr', n_jobs=1, penalty='l2', random_state=None,\n",
      "           refit=True, scoring=None, solver='lbfgs', tol=0.0001, verbose=0)>\n"
     ]
    }
   ],
   "source": [
    "import statsmodels.api as sm    #调用statsmodels里面的api，通过api调用相当于调用了statsmodels.regression.linear_model，可以使用linear_model文件里的函数\n",
    "from sklearn.linear_model import LogisticRegression, LogisticRegressionCV\n",
    "mod = LogisticRegressionCV(10)\n",
    "res = mod.fit(Xtrain,ytrain)            #训练集\n",
    "print(res.score)"
   ]
  },
  {
   "cell_type": "code",
   "execution_count": 32,
   "metadata": {
    "ExecuteTime": {
     "end_time": "2018-12-04T02:33:11.362800Z",
     "start_time": "2018-12-04T02:33:11.345800Z"
    }
   },
   "outputs": [
    {
     "name": "stdout",
     "output_type": "stream",
     "text": [
      "Total: 42, Hit: 22, Precision: 52.38\n"
     ]
    }
   ],
   "source": [
    "# 构建预测集\n",
    "# 与训练集相似，一般也是通过 pd.read_csv() 读入\n",
    "# 在这边为方便，我们将训练集拷贝一份作为预测集（不包括 admin 列）\n",
    "cop['predict'] = res.predict(Xtest)\n",
    "total = 0\n",
    "hit = 0\n",
    "for value in cop.values:\n",
    "  # 预测分数 predict, 是数据中的最后一列\n",
    "  predict = value[-1]\n",
    "  # 实际录取结果\n",
    "  admit = int(value[0])\n",
    "  # 假定预测概率大于0.5则表示预测被录取\n",
    "  if predict > 0.5:\n",
    "    total += 1\n",
    "    # 表示预测命中\n",
    "    if admit == 1:\n",
    "      hit += 1\n",
    "\n",
    "# 输出结果\n",
    "print ('Total: %d, Hit: %d, Precision: %.2f' % (total, hit, 100.0*hit/total))\n",
    "# Total: 49, Hit: 30, Precision: 61.22"
   ]
  },
  {
   "cell_type": "code",
   "execution_count": null,
   "metadata": {},
   "outputs": [],
   "source": []
  }
 ],
 "metadata": {
  "kernelspec": {
   "display_name": "Python 3",
   "language": "python",
   "name": "python3"
  },
  "language_info": {
   "codemirror_mode": {
    "name": "ipython",
    "version": 3
   },
   "file_extension": ".py",
   "mimetype": "text/x-python",
   "name": "python",
   "nbconvert_exporter": "python",
   "pygments_lexer": "ipython3",
   "version": "3.6.5"
  },
  "nbTranslate": {
   "displayLangs": [
    "*"
   ],
   "hotkey": "alt-t",
   "langInMainMenu": true,
   "sourceLang": "en",
   "targetLang": "fr",
   "useGoogleTranslate": true
  }
 },
 "nbformat": 4,
 "nbformat_minor": 2
}
