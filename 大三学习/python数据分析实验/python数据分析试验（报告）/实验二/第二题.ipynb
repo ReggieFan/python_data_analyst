{
 "cells": [
  {
   "cell_type": "markdown",
   "metadata": {},
   "source": [
    "# 从pdf中得到持股子公司名字"
   ]
  },
  {
   "cell_type": "code",
   "execution_count": 74,
   "metadata": {
    "ExecuteTime": {
     "end_time": "2018-11-25T06:49:48.210000Z",
     "start_time": "2018-11-25T06:49:38.849000Z"
    }
   },
   "outputs": [
    {
     "data": {
      "text/plain": [
       "['首钢集团有限公司',\n",
       " '中国人民财产保险股份有限公司',\n",
       " '国网英大国际控股集团有限公司',\n",
       " '中国证券金融股份有限公司',\n",
       " '云南合和(集团)股份有限公司',\n",
       " '润华集团股份有限公司',\n",
       " '华夏人寿保险股份有限公司-万能保险产品',\n",
       " '上海健特生命科技有限公司',\n",
       " '中央汇金资产管理有限责任公司',\n",
       " '梧桐树投资平台有限责任公司']"
      ]
     },
     "execution_count": 74,
     "metadata": {},
     "output_type": "execute_result"
    }
   ],
   "source": [
    "import tabula as tb\n",
    "import pandas as pd\n",
    "import numpy as np\n",
    "import re\n",
    "df = tb.read_pdf(\"http://www.sse.com.cn/disclosure/listedinfo/announcement/c/2018-04-20/600015_2017_nzy.pdf\", encoding='gbk', pages='all',multiple_tables=True)\n",
    "count=11\n",
    "total=[]\n",
    "for i in df:\n",
    "    for j in i[0]:\n",
    "        if j==j:\n",
    "            total.append(j)\n",
    "for i,value in enumerate(total):\n",
    "    if '一致行动的说明' in str(value):          #通过关键字查找，这里用正则表达式没用\n",
    "        count=i \n",
    "total[count-11:count-1]"
   ]
  },
  {
   "cell_type": "markdown",
   "metadata": {},
   "source": [
    "# 构建方法"
   ]
  },
  {
   "cell_type": "code",
   "execution_count": 73,
   "metadata": {
    "ExecuteTime": {
     "end_time": "2018-11-25T06:49:34.062000Z",
     "start_time": "2018-11-25T06:49:25.974000Z"
    }
   },
   "outputs": [
    {
     "name": "stdout",
     "output_type": "stream",
     "text": [
      "输入年报摘要pdf网址：http://www.sse.com.cn/disclosure/listedinfo/announcement/c/2018-04-21/600004_2017_nzy.pdf\n",
      "43\n",
      "['广东省机场管理集团有限公司 1,056,346,783', '香港中央结算有限公司', '中央汇金资产管理有限责任公司', '兴业证券股份有限公司', 'UBS AG', '全国社保基金一零一组合', '招商银行股份有限公司-东方红睿丰灵', '活配置混合型证券投资基金(LOF)', '全国社保基金四一八组合', 'DEUTSCHE BANK AKTIENGESELLSCHAFT']\n"
     ]
    },
    {
     "data": {
      "text/plain": [
       "['广东省机场管理集团有限公司 1,056,346,783',\n",
       " '香港中央结算有限公司',\n",
       " '中央汇金资产管理有限责任公司',\n",
       " '兴业证券股份有限公司',\n",
       " 'UBS AG',\n",
       " '全国社保基金一零一组合',\n",
       " '招商银行股份有限公司-东方红睿丰灵',\n",
       " '活配置混合型证券投资基金(LOF)',\n",
       " '全国社保基金四一八组合',\n",
       " 'DEUTSCHE BANK AKTIENGESELLSCHAFT']"
      ]
     },
     "execution_count": 73,
     "metadata": {},
     "output_type": "execute_result"
    }
   ],
   "source": [
    "import tabula as tb\n",
    "import pandas as pd\n",
    "import numpy as np\n",
    "import re\n",
    "def zicompany():\n",
    "    a=input('输入年报摘要pdf网址：')\n",
    "    df = tb.read_pdf(a, encoding='gbk', pages='all',multiple_tables=True)\n",
    "    count=11\n",
    "    total=[]\n",
    "    for i in df:\n",
    "        for j in i[0]:\n",
    "            if j==j:\n",
    "                total.append(j)\n",
    "    for i,value in enumerate(total):\n",
    "        if '一致行动的说明' in str(value):\n",
    "            count=i\n",
    "            print(count)\n",
    "            break\n",
    "    print(total[count-11:count-1])\n",
    "    return total[count-11:count-1]\n",
    "zicompany()"
   ]
  },
  {
   "cell_type": "markdown",
   "metadata": {},
   "source": [
    "# 连接数据库，并存入数据"
   ]
  },
  {
   "cell_type": "code",
   "execution_count": 75,
   "metadata": {
    "ExecuteTime": {
     "end_time": "2018-11-25T06:50:02.767000Z",
     "start_time": "2018-11-25T06:50:01.099000Z"
    }
   },
   "outputs": [],
   "source": [
    "import pymysql\n",
    "# 打开数据库连接\n",
    "db = pymysql.connect(\"localhost\",\"root\",\"root\",\"stockprice\" )\n",
    "# 使用 cursor() 方法创建一个游标对象 cursor\n",
    "cursor = db.cursor()\n",
    "# 使用 execute() 方法执行 SQL，如果表存在则删除\n",
    "cursor.execute(\"DROP TABLE IF EXISTS nianbao\")\n",
    "# 使用预处理语句创建表\n",
    "sql = \"\"\"CREATE TABLE nianbao (\n",
    "         company  CHAR(30)  primary key)\"\"\"\n",
    "cursor.execute(sql)\n",
    "# 关闭数据库连接\n",
    "db.close()"
   ]
  },
  {
   "cell_type": "markdown",
   "metadata": {},
   "source": [
    "# 直接调用方法，存入数据库"
   ]
  },
  {
   "cell_type": "code",
   "execution_count": 72,
   "metadata": {
    "ExecuteTime": {
     "end_time": "2018-11-25T06:49:09.152000Z",
     "start_time": "2018-11-25T06:48:58.362000Z"
    }
   },
   "outputs": [
    {
     "name": "stdout",
     "output_type": "stream",
     "text": [
      "输入年报摘要pdf网址：http://www.sse.com.cn/disclosure/listedinfo/announcement/c/2018-04-21/600004_2017_nzy.pdf\n",
      "43\n",
      "['广东省机场管理集团有限公司 1,056,346,783', '香港中央结算有限公司', '中央汇金资产管理有限责任公司', '兴业证券股份有限公司', 'UBS AG', '全国社保基金一零一组合', '招商银行股份有限公司-东方红睿丰灵', '活配置混合型证券投资基金(LOF)', '全国社保基金四一八组合', 'DEUTSCHE BANK AKTIENGESELLSCHAFT']\n",
      "INSERT INTO nianbao(company) VALUES (广东省机场管理集团有限公司 1,056,346,783)\n",
      "INSERT INTO nianbao(company) VALUES (香港中央结算有限公司)\n",
      "INSERT INTO nianbao(company) VALUES (中央汇金资产管理有限责任公司)\n",
      "INSERT INTO nianbao(company) VALUES (兴业证券股份有限公司)\n",
      "INSERT INTO nianbao(company) VALUES (UBS AG)\n",
      "INSERT INTO nianbao(company) VALUES (全国社保基金一零一组合)\n",
      "INSERT INTO nianbao(company) VALUES (招商银行股份有限公司-东方红睿丰灵)\n",
      "INSERT INTO nianbao(company) VALUES (活配置混合型证券投资基金(LOF))\n",
      "INSERT INTO nianbao(company) VALUES (全国社保基金四一八组合)\n",
      "INSERT INTO nianbao(company) VALUES (DEUTSCHE BANK AKTIENGESELLSCHAFT)\n"
     ]
    }
   ],
   "source": [
    "db = pymysql.connect(\"localhost\",\"root\",\"root\",\"stockprice\")\n",
    "# 使用cursor()方法获取操作游标 \n",
    "cursor = db.cursor()\n",
    "for i in zicompany():\n",
    "    sql = \"INSERT INTO nianbao(company) VALUES (\"+str(i)+\")\"\n",
    "    print (sql)\n",
    "    try:\n",
    "        cursor.execute(sql)\n",
    "        db.commit()\n",
    "    except:\n",
    "        db.rollback()\n",
    "# 关闭数据库连接\n",
    "db.close()"
   ]
  },
  {
   "cell_type": "code",
   "execution_count": null,
   "metadata": {},
   "outputs": [],
   "source": []
  }
 ],
 "metadata": {
  "hide_input": false,
  "kernelspec": {
   "display_name": "Python 3",
   "language": "python",
   "name": "python3"
  },
  "language_info": {
   "codemirror_mode": {
    "name": "ipython",
    "version": 3
   },
   "file_extension": ".py",
   "mimetype": "text/x-python",
   "name": "python",
   "nbconvert_exporter": "python",
   "pygments_lexer": "ipython3",
   "version": "3.6.5"
  },
  "nbTranslate": {
   "displayLangs": [
    "*"
   ],
   "hotkey": "alt-t",
   "langInMainMenu": true,
   "sourceLang": "en",
   "targetLang": "fr",
   "useGoogleTranslate": true
  }
 },
 "nbformat": 4,
 "nbformat_minor": 2
}
