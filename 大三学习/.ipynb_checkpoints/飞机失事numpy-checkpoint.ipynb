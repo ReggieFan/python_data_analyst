{
 "cells": [
  {
   "cell_type": "markdown",
   "metadata": {},
   "source": [
    "从csv文件中读取数据，并存入numpy.ndarray。\n",
    "分为两部分存储，一是年份时间，二是该年份发生事件的次数。"
   ]
  },
  {
   "cell_type": "code",
   "execution_count": 151,
   "metadata": {
    "scrolled": true
   },
   "outputs": [
    {
     "name": "stdout",
     "output_type": "stream",
     "text": [
      "['09/17/1908' '07/12/1912' '08/06/1913' ... '06/01/2009' '06/07/2009'\n",
      " '06/08/2009']\n",
      "<class 'numpy.ndarray'>\n",
      "['1908' '1912' '1913' '1915' '1916' '1917' '1918' '1919' '1920' '1921'\n",
      " '1922' '1923' '1924' '1925' '1926' '1927' '1928' '1929' '1930' '1931'\n",
      " '1932' '1933' '1934' '1935' '1936' '1937' '1938' '1939' '1940' '1941'\n",
      " '1942' '1943' '1944' '1945' '1946' '1947' '1948' '1949' '1950' '1951'\n",
      " '1952' '1953' '1954' '1955' '1956' '1957' '1958' '1959' '1960' '1961'\n",
      " '1962' '1963' '1964' '1965' '1966' '1967' '1968' '1969' '1970' '1971'\n",
      " '1972' '1973' '1974' '1975' '1976' '1977' '1978' '1979' '1980' '1981'\n",
      " '1982' '1983' '1984' '1985' '1986' '1987' '1988' '1989' '1990' '1991'\n",
      " '1992' '1993' '1994' '1995' '1996' '1997' '1998' '1999' '2000' '2001'\n",
      " '2002' '2003' '2004' '2005' '2006' '2007' '2008' '2009']\n",
      "98\n"
     ]
    }
   ],
   "source": [
    "# -*- coding=utf-8 -*-\n",
    "import numpy as np  \n",
    "import datetime\n",
    "import csv    #需要加载numpy和csv两个包  \n",
    "csv_file=open('D:/Airplane_Crashes_and_Fatalities_Since_1908_.csv')    #打开文件  \n",
    "csv_reader_lines = csv.reader(csv_file)    #用csv.reader读文件  \n",
    "date_PyList=[]\n",
    "for one_line in csv_reader_lines:\n",
    "    date_PyList.append(one_line)    #逐行将读到的文件存入python的列表  \n",
    "date_ndarray = np.array(date_PyList)    #将python列表转化为ndarray  \n",
    "date=date_ndarray.T[0][1:]\n",
    "print (date)    #切个片试一下是否成功\n",
    "j=0\n",
    "for i in date:\n",
    "#     print (\"当前的年份是:\"+ i)\n",
    "#     print (type(i))\n",
    "    # 字符串转日期\n",
    "    data_time = datetime.datetime.strptime(i, '%m/%d/%Y')\n",
    "    year=data_time.year\n",
    "    date[j]=year\n",
    "    j=j+1\n",
    "#     print (type(data_time),str(year))\n",
    "print (type(date))\n",
    "dictionkey, dictionval = np.unique(date, return_counts=True)\n",
    "# print (unique)\n",
    "# print (counts)\n",
    "# diction = dict(zip(unique, counts))\n",
    "# dictionval=list(diction.values())\n",
    "# dictinoval=np.array(dictionval)\n",
    "# dictionkey= list(diction.keys())\n",
    "# dictinokey=np.array(dictionkey)\n",
    "print (dictionkey)\n",
    "print (len(dictionkey))\n",
    "csv_file.close()"
   ]
  },
  {
   "cell_type": "markdown",
   "metadata": {},
   "source": [
    "首先通过plt来设置图表格式，之后利用data.plot()把图表显示出来。此图表纵坐标为在某年发生的事件次数，横坐标为年份。"
   ]
  },
  {
   "cell_type": "code",
   "execution_count": 148,
   "metadata": {},
   "outputs": [
    {
     "data": {
      "text/plain": [
       "<matplotlib.axes._subplots.AxesSubplot at 0x1a8d8940>"
      ]
     },
     "execution_count": 148,
     "metadata": {},
     "output_type": "execute_result"
    },
    {
     "data": {
      "image/png": "[encoded data removed]",
      "text/plain": [
       "<Figure size 1440x720 with 1 Axes>"
      ]
     },
     "metadata": {},
     "output_type": "display_data"
    }
   ],
   "source": [
    "import pandas as pd\n",
    "import matplotlib.pyplot as plt\n",
    "import matplotlib.dates as mdate\n",
    "import pylab as mpl \n",
    "plt.subplots(1, 1,figsize=(20, 10))\n",
    "for i in range(98):\n",
    "    if (i%5)==0:\n",
    "        continue\n",
    "    else:\n",
    "        dictionkey[i]=''\n",
    "data = pd.Series(dictionval,index=dictionkey)\n",
    "cc = (np.arange(98)+1)*2\n",
    "#plt.autofmt_xdate()\n",
    "plt.xticks(fontsize=30)\n",
    "plt.yticks(fontsize=10)\n",
    "# fig = plt.figure()\n",
    "#生成axis对象\n",
    "# ax = fig.add_subplot(111) #本案例的figure中只包含一个图表\n",
    "#设置x轴为时间格式，这句非常重要，否则x轴显示的将是类似于‘736268’这样的转码后的数字格式\n",
    "#ax.xaxis.set_major_formatter(mdate.DateFormatter('%Y'))\n",
    "# plt.figsize(10,10)\n",
    "# plt.xticks(range(dictionkey[0],dictionkey[1]+1,3),rotation=45)\n",
    "# plt.xticks([1,2,3,4,5])\n",
    "data.plot(kind='bar',color=plt.cm.jet(cc))   #基于data.plot\n",
    "#fig.autofmt_xdate()\n",
    "# ax.plot(dictionkey,dictionval,color='r')\n",
    "# plt.show()"
   ]
  },
  {
   "cell_type": "code",
   "execution_count": 49,
   "metadata": {},
   "outputs": [
    {
     "data": {
      "text/plain": [
       "{0: 7, 1: 4, 2: 1, 3: 2, 4: 1}"
      ]
     },
     "execution_count": 49,
     "metadata": {},
     "output_type": "execute_result"
    }
   ],
   "source": [
    "# import collections\n",
    "# a = np.array([0, 3, 0, 1, 0, 1, 2, 1, 0, 0, 0, 0, 1, 3, 4])\n",
    "# unique, counts = np.unique(a, return_counts=True)\n",
    "# dict(zip(unique, counts))\n",
    "# c = collections.Counter(a)\n",
    "# print (type(c))"
   ]
  },
  {
   "cell_type": "code",
   "execution_count": 110,
   "metadata": {},
   "outputs": [
    {
     "data": {
      "text/html": [
       "<div>\n",
       "<style scoped>\n",
       "    .dataframe tbody tr th:only-of-type {\n",
       "        vertical-align: middle;\n",
       "    }\n",
       "\n",
       "    .dataframe tbody tr th {\n",
       "        vertical-align: top;\n",
       "    }\n",
       "\n",
       "    .dataframe thead th {\n",
       "        text-align: right;\n",
       "    }\n",
       "</style>\n",
       "<table border=\"1\" class=\"dataframe\">\n",
       "  <thead>\n",
       "    <tr style=\"text-align: right;\">\n",
       "      <th></th>\n",
       "      <th>Date</th>\n",
       "      <th>Location</th>\n",
       "      <th>Operator</th>\n",
       "      <th>Flight #</th>\n",
       "      <th>Route</th>\n",
       "      <th>Type</th>\n",
       "      <th>Registration</th>\n",
       "      <th>cn/In</th>\n",
       "      <th>Aboard</th>\n",
       "      <th>Fatalities</th>\n",
       "      <th>Ground</th>\n",
       "      <th>Summary</th>\n",
       "    </tr>\n",
       "  </thead>\n",
       "  <tbody>\n",
       "    <tr>\n",
       "      <th>0</th>\n",
       "      <td>1908-09-17</td>\n",
       "      <td>Fort Myer, Virginia</td>\n",
       "      <td>Military - U.S. Army</td>\n",
       "      <td>NaN</td>\n",
       "      <td>Demonstration</td>\n",
       "      <td>Wright Flyer III</td>\n",
       "      <td>NaN</td>\n",
       "      <td>1</td>\n",
       "      <td>2.0</td>\n",
       "      <td>1.0</td>\n",
       "      <td>0.0</td>\n",
       "      <td>During a demonstration flight, a U.S. Army fly...</td>\n",
       "    </tr>\n",
       "    <tr>\n",
       "      <th>1</th>\n",
       "      <td>1912-07-12</td>\n",
       "      <td>AtlantiCity, New Jersey</td>\n",
       "      <td>Military - U.S. Navy</td>\n",
       "      <td>NaN</td>\n",
       "      <td>Test flight</td>\n",
       "      <td>Dirigible</td>\n",
       "      <td>NaN</td>\n",
       "      <td>NaN</td>\n",
       "      <td>5.0</td>\n",
       "      <td>5.0</td>\n",
       "      <td>0.0</td>\n",
       "      <td>First U.S. dirigible Akron exploded just offsh...</td>\n",
       "    </tr>\n",
       "    <tr>\n",
       "      <th>2</th>\n",
       "      <td>1913-08-06</td>\n",
       "      <td>Victoria, British Columbia, Canada</td>\n",
       "      <td>Private</td>\n",
       "      <td>-</td>\n",
       "      <td>NaN</td>\n",
       "      <td>Curtiss seaplane</td>\n",
       "      <td>NaN</td>\n",
       "      <td>NaN</td>\n",
       "      <td>1.0</td>\n",
       "      <td>1.0</td>\n",
       "      <td>0.0</td>\n",
       "      <td>The first fatal airplane accident in Canada oc...</td>\n",
       "    </tr>\n",
       "    <tr>\n",
       "      <th>3</th>\n",
       "      <td>1913-09-09</td>\n",
       "      <td>Over the North Sea</td>\n",
       "      <td>Military - German Navy</td>\n",
       "      <td>NaN</td>\n",
       "      <td>NaN</td>\n",
       "      <td>Zeppelin L-1 (airship)</td>\n",
       "      <td>NaN</td>\n",
       "      <td>NaN</td>\n",
       "      <td>20.0</td>\n",
       "      <td>14.0</td>\n",
       "      <td>0.0</td>\n",
       "      <td>The airship flew into a thunderstorm and encou...</td>\n",
       "    </tr>\n",
       "    <tr>\n",
       "      <th>4</th>\n",
       "      <td>1913-10-17</td>\n",
       "      <td>Near Johannisthal, Germany</td>\n",
       "      <td>Military - German Navy</td>\n",
       "      <td>NaN</td>\n",
       "      <td>NaN</td>\n",
       "      <td>Zeppelin L-2 (airship)</td>\n",
       "      <td>NaN</td>\n",
       "      <td>NaN</td>\n",
       "      <td>30.0</td>\n",
       "      <td>30.0</td>\n",
       "      <td>0.0</td>\n",
       "      <td>Hydrogen gas which was being vented was sucked...</td>\n",
       "    </tr>\n",
       "  </tbody>\n",
       "</table>\n",
       "</div>"
      ],
      "text/plain": [
       "        Date                            Location                Operator  \\\n",
       "0 1908-09-17                 Fort Myer, Virginia    Military - U.S. Army   \n",
       "1 1912-07-12             AtlantiCity, New Jersey    Military - U.S. Navy   \n",
       "2 1913-08-06  Victoria, British Columbia, Canada                 Private   \n",
       "3 1913-09-09                  Over the North Sea  Military - German Navy   \n",
       "4 1913-10-17          Near Johannisthal, Germany  Military - German Navy   \n",
       "\n",
       "  Flight #          Route                    Type Registration cn/In  Aboard  \\\n",
       "0      NaN  Demonstration        Wright Flyer III          NaN     1     2.0   \n",
       "1      NaN    Test flight               Dirigible          NaN   NaN     5.0   \n",
       "2        -            NaN        Curtiss seaplane          NaN   NaN     1.0   \n",
       "3      NaN            NaN  Zeppelin L-1 (airship)          NaN   NaN    20.0   \n",
       "4      NaN            NaN  Zeppelin L-2 (airship)          NaN   NaN    30.0   \n",
       "\n",
       "   Fatalities  Ground                                            Summary  \n",
       "0         1.0     0.0  During a demonstration flight, a U.S. Army fly...  \n",
       "1         5.0     0.0  First U.S. dirigible Akron exploded just offsh...  \n",
       "2         1.0     0.0  The first fatal airplane accident in Canada oc...  \n",
       "3        14.0     0.0  The airship flew into a thunderstorm and encou...  \n",
       "4        30.0     0.0  Hydrogen gas which was being vented was sucked...  "
      ]
     },
     "execution_count": 110,
     "metadata": {},
     "output_type": "execute_result"
    }
   ],
   "source": [
    "# dateparse = lambda dates:pd.datetime.strptime(dates,'%m/%d/%Y')\n",
    "# data = pd.read_excel('D:/Airplane_Crashes_and_Fatalities_Since_1908_.xlsx',encoding='utf-8',parse_dates=['Date'],date_parser=dateparse)\n",
    "# data.head()"
   ]
  },
  {
   "cell_type": "markdown",
   "metadata": {},
   "source": [
    "利用numpy给每一列命名，可以取得某一列。"
   ]
  },
  {
   "cell_type": "code",
   "execution_count": 154,
   "metadata": {},
   "outputs": [
    {
     "name": "stdout",
     "output_type": "stream",
     "text": [
      "['Military - U.S. Army' 'Military - U.S. Navy' 'Private' ... 'Air France'\n",
      " 'Strait Air' 'Military - Indian Air Force']\n"
     ]
    }
   ],
   "source": [
    "csv_file=open('D:/Airplane_Crashes_and_Fatalities_Since_1908_.csv')    #打开文件  \n",
    "csv_reader_lines = csv.reader(csv_file)    #用csv.reader读文件  \n",
    "PyList=[]\n",
    "for one_line in csv_reader_lines:\n",
    "    PyList.append(one_line)    #逐行将读到的文件存入python的列表  \n",
    "ndarray = np.array(PyList)    #将python列表转化为ndarray  \n",
    "items=ndarray[0]\n",
    "alldict={}\n",
    "for i in range(12):\n",
    "    alldict[items[i]]=ndarray.T[i][1:]\n",
    "print (alldict['Operator'])"
   ]
  },
  {
   "cell_type": "markdown",
   "metadata": {},
   "source": [
    "用Numpy进行数据清洗，统计失事死亡率，并求出最大发生事故的航空公司。"
   ]
  },
  {
   "cell_type": "code",
   "execution_count": 161,
   "metadata": {},
   "outputs": [
    {
     "ename": "ValueError",
     "evalue": "invalid literal for int() with base 10: ''",
     "output_type": "error",
     "traceback": [
      "\u001b[1;31m---------------------------------------------------------------------------\u001b[0m",
      "\u001b[1;31mValueError\u001b[0m                                Traceback (most recent call last)",
      "\u001b[1;32m<ipython-input-161-ea5f33cdf605>\u001b[0m in \u001b[0;36m<module>\u001b[1;34m()\u001b[0m\n\u001b[0;32m      4\u001b[0m \u001b[0mcount\u001b[0m\u001b[1;33m=\u001b[0m\u001b[1;36m0\u001b[0m\u001b[1;33m\u001b[0m\u001b[0m\n\u001b[0;32m      5\u001b[0m \u001b[1;32mfor\u001b[0m \u001b[0mi\u001b[0m \u001b[1;32min\u001b[0m \u001b[0mdiction\u001b[0m\u001b[1;33m:\u001b[0m\u001b[1;33m\u001b[0m\u001b[0m\n\u001b[1;32m----> 6\u001b[1;33m     \u001b[1;32mif\u001b[0m \u001b[0mint\u001b[0m\u001b[1;33m(\u001b[0m\u001b[0malldict\u001b[0m\u001b[1;33m[\u001b[0m\u001b[1;34m'Fatalities'\u001b[0m\u001b[1;33m]\u001b[0m\u001b[1;33m[\u001b[0m\u001b[0mcount\u001b[0m\u001b[1;33m]\u001b[0m\u001b[1;33m)\u001b[0m\u001b[1;33m>\u001b[0m\u001b[0mmax_fatal\u001b[0m\u001b[1;33m:\u001b[0m\u001b[1;33m\u001b[0m\u001b[0m\n\u001b[0m\u001b[0;32m      7\u001b[0m         \u001b[0mmax_fatal\u001b[0m\u001b[1;33m=\u001b[0m\u001b[0mint\u001b[0m\u001b[1;33m(\u001b[0m\u001b[0malldict\u001b[0m\u001b[1;33m[\u001b[0m\u001b[1;34m'Fatalities'\u001b[0m\u001b[1;33m]\u001b[0m\u001b[1;33m[\u001b[0m\u001b[0mcount\u001b[0m\u001b[1;33m]\u001b[0m\u001b[1;33m)\u001b[0m\u001b[1;33m\u001b[0m\u001b[0m\n\u001b[0;32m      8\u001b[0m         \u001b[0mmax_operator\u001b[0m\u001b[1;33m=\u001b[0m\u001b[0malldict\u001b[0m\u001b[1;33m[\u001b[0m\u001b[1;34m'Operator'\u001b[0m\u001b[1;33m]\u001b[0m\u001b[1;33m[\u001b[0m\u001b[0mcount\u001b[0m\u001b[1;33m]\u001b[0m\u001b[1;33m\u001b[0m\u001b[0m\n",
      "\u001b[1;31mValueError\u001b[0m: invalid literal for int() with base 10: ''"
     ]
    }
   ],
   "source": [
    "diction = dict(zip(alldict['Operator'], alldict['Fatalities']))\n",
    "max_fatal=0\n",
    "max_operator=''\n",
    "count=0\n",
    "for i in alldict['Fatalities']:\n",
    "    if i='':\n",
    "        i='0'\n",
    "for i in diction:\n",
    "    if int(alldict['Fatalities'][count])>max_fatal:\n",
    "        max_fatal=int(alldict['Fatalities'][count])\n",
    "        max_operator=alldict['Operator'][count]\n",
    "    count=count+1\n",
    "print (max_operator,max_fatal)"
   ]
  },
  {
   "cell_type": "code",
   "execution_count": null,
   "metadata": {},
   "outputs": [],
   "source": []
  }
 ],
 "metadata": {
  "kernelspec": {
   "display_name": "Python 3",
   "language": "python",
   "name": "python3"
  },
  "language_info": {
   "codemirror_mode": {
    "name": "ipython",
    "version": 3
   },
   "file_extension": ".py",
   "mimetype": "text/x-python",
   "name": "python",
   "nbconvert_exporter": "python",
   "pygments_lexer": "ipython3",
   "version": "3.6.5"
  }
 },
 "nbformat": 4,
 "nbformat_minor": 2
}
