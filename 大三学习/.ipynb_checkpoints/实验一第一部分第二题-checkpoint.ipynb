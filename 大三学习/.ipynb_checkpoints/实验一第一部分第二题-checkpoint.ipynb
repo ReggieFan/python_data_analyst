{
 "cells": [
  {
   "cell_type": "code",
   "execution_count": 16,
   "metadata": {},
   "outputs": [],
   "source": [
    "import re\n",
    "def tom():\n",
    "    print (\"Please input name:\")\n",
    "    a=input()\n",
    "    namelist=['Andy','Ant','Ama','Bob','Cat','Candy','Tom','David']\n",
    "    matchlist=[]\n",
    "    for i in namelist:\n",
    "        if re.match(a, i, flags=0)!=None:\n",
    "            matchlist.append(i)\n",
    "    print ('Do you want to find:',matchlist)"
   ]
  },
  {
   "cell_type": "code",
   "execution_count": 17,
   "metadata": {},
   "outputs": [
    {
     "name": "stdout",
     "output_type": "stream",
     "text": [
      "Please input name:\n",
      "A\n",
      "Do you want to find: ['Andy', 'Ant', 'Ama']\n"
     ]
    }
   ],
   "source": [
    "tom()"
   ]
  },
  {
   "cell_type": "code",
   "execution_count": null,
   "metadata": {},
   "outputs": [],
   "source": []
  }
 ],
 "metadata": {
  "kernelspec": {
   "display_name": "Python 3",
   "language": "python",
   "name": "python3"
  },
  "language_info": {
   "codemirror_mode": {
    "name": "ipython",
    "version": 3
   },
   "file_extension": ".py",
   "mimetype": "text/x-python",
   "name": "python",
   "nbconvert_exporter": "python",
   "pygments_lexer": "ipython3",
   "version": "3.6.5"
  }
 },
 "nbformat": 4,
 "nbformat_minor": 2
}
