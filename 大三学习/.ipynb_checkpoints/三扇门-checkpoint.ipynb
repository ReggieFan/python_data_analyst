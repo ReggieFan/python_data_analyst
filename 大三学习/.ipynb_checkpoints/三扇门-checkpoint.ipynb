{
 "cells": [
  {
   "cell_type": "code",
   "execution_count": 68,
   "metadata": {},
   "outputs": [
    {
     "name": "stdout",
     "output_type": "stream",
     "text": [
      "You win 6638 out of 10000 tests if you changed your mind\n",
      "You win 3362 out of 10000 tests if you insist initial choice\n"
     ]
    }
   ],
   "source": [
    "import random\n",
    "count_notchange=0\n",
    "count_change=0\n",
    "for i in range(10000):\n",
    "    list1=[1,2,3]\n",
    "    key=random.randint(1,3)\n",
    "    choose=random.randint(1,3)\n",
    "    list1.remove(choose)\n",
    "    if list1[0]==key:\n",
    "        list1.remove(list1[1])\n",
    "    elif list1[1]==key:\n",
    "        list1.remove(list1[0])\n",
    "    else:\n",
    "        list1.remove(list1[int(random.choice('01'))])\n",
    "    if list1[0]==key:\n",
    "        count_change= count_change+1\n",
    "    elif choose==key:\n",
    "        count_notchange= count_notchange+1\n",
    "print ('You win '+str(count_change)+' out of 10000 tests if you changed your mind')\n",
    "print ('You win '+str(count_notchange)+' out of 10000 tests if you insist initial choice')"
   ]
  },
  {
   "cell_type": "code",
   "execution_count": 62,
   "metadata": {},
   "outputs": [
    {
     "name": "stdout",
     "output_type": "stream",
     "text": [
      "<class 'str'>\n"
     ]
    }
   ],
   "source": [
    "print (type(random.choice('01')))"
   ]
  },
  {
   "cell_type": "code",
   "execution_count": 50,
   "metadata": {},
   "outputs": [
    {
     "name": "stdout",
     "output_type": "stream",
     "text": [
      "[1, 2, 3]\n",
      "None\n"
     ]
    }
   ],
   "source": [
    "list1=[1,2,3]\n",
    "count_notchange=0\n",
    "count_change=0\n",
    "print (list1)\n",
    "remain=list1.remove(1)\n",
    "print (remain)"
   ]
  },
  {
   "cell_type": "code",
   "execution_count": null,
   "metadata": {},
   "outputs": [],
   "source": []
  }
 ],
 "metadata": {
  "kernelspec": {
   "display_name": "Python 3",
   "language": "python",
   "name": "python3"
  },
  "language_info": {
   "codemirror_mode": {
    "name": "ipython",
    "version": 3
   },
   "file_extension": ".py",
   "mimetype": "text/x-python",
   "name": "python",
   "nbconvert_exporter": "python",
   "pygments_lexer": "ipython3",
   "version": "3.6.5"
  }
 },
 "nbformat": 4,
 "nbformat_minor": 2
}
