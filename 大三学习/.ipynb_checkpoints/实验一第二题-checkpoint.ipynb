{
 "cells": [
  {
   "cell_type": "code",
   "execution_count": 1,
   "metadata": {},
   "outputs": [
    {
     "name": "stdout",
     "output_type": "stream",
     "text": [
      "Writing test_speed.cpp\n"
     ]
    }
   ],
   "source": [
    "%%writefile test_speed.cpp\n",
    "#include <iostream>\n",
    "#include <stdio.h>\n",
    "#include <stdlib.h>\n",
    "#include <math.h>\n",
    "\n",
    "// using namespace std;\n",
    "\n",
    "\n",
    "int main(int argc, char** argv) {\n",
    "    if (argc < 4){\n",
    "        std::cout << \"run with n_samples, mean, sigma!\";\n",
    "        return 1;\n",
    "    }\n",
    "    int size = atoi(argv[1]);\n",
    "    double mean = atof(argv[2]);\n",
    "    double sigma = atof(argv[3]);\n",
    "    \n",
    "    double * data = new double[size];\n",
    "    double factor = 1. / size;\n",
    "    for (int i=0; i<size; ++i){\n",
    "        data[i] = i * factor;\n",
    "    }\n",
    "    double result = 0.;\n",
    "    double s = 0.;\n",
    "    double x = 0.;\n",
    "    \n",
    "    for (int i=0; i<size; ++i){\n",
    "        x = (data[i] - mean);\n",
    "        s =  x * x / (2 * (sigma * sigma));\n",
    "        result += log(exp(-s) / (sqrt(2 * M_PI) * sigma));\n",
    "    }\n",
    "    \n",
    "    std::cout << std::endl << result << std::endl;\n",
    "    return 0;\n",
    "}"
   ]
  },
  {
   "cell_type": "code",
   "execution_count": null,
   "metadata": {},
   "outputs": [],
   "source": []
  }
 ],
 "metadata": {
  "kernelspec": {
   "display_name": "Python 3",
   "language": "python",
   "name": "python3"
  },
  "language_info": {
   "codemirror_mode": {
    "name": "ipython",
    "version": 3
   },
   "file_extension": ".py",
   "mimetype": "text/x-python",
   "name": "python",
   "nbconvert_exporter": "python",
   "pygments_lexer": "ipython3",
   "version": "3.6.5"
  }
 },
 "nbformat": 4,
 "nbformat_minor": 2
}
