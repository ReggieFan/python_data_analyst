{
 "cells": [
  {
   "cell_type": "code",
   "execution_count": 30,
   "metadata": {},
   "outputs": [
    {
     "name": "stdout",
     "output_type": "stream",
     "text": [
      "0       09/17/1908\n",
      "1       07/12/1912\n",
      "2       08/06/1913\n",
      "3       09/09/1913\n",
      "4       10/17/1913\n",
      "5       03/05/1915\n",
      "6       09/03/1915\n",
      "7       07/28/1916\n",
      "8       09/24/1916\n",
      "9       10/01/1916\n",
      "10      11/21/1916\n",
      "11      11/28/1916\n",
      "12      03/04/1917\n",
      "13      03/30/1917\n",
      "14      05/14/1917\n",
      "15      06/14/1917\n",
      "16      08/21/1917\n",
      "17      10/20/1917\n",
      "18      04/07/1918\n",
      "19      05/10/1918\n",
      "20      08/11/1918\n",
      "21      12/16/1918\n",
      "22      05/25/1919\n",
      "23      07/19/1919\n",
      "24      10/02/1919\n",
      "25      10/14/1919\n",
      "26      10/20/1919\n",
      "27      10/30/1919\n",
      "28      03/10/1920\n",
      "29      03/30/1920\n",
      "           ...    \n",
      "5238    11/13/2008\n",
      "5239    11/16/2008\n",
      "5240    11/27/2008\n",
      "5241    12/03/2008\n",
      "5242    12/11/2008\n",
      "5243    12/15/2008\n",
      "5244    01/04/2009\n",
      "5245    01/15/2009\n",
      "5246    02/07/2009\n",
      "5247    02/07/2009\n",
      "5248    02/12/2009\n",
      "5249    02/15/2009\n",
      "5250    02/20/2009\n",
      "5251    02/25/2009\n",
      "5252    03/09/2009\n",
      "5253    03/12/2009\n",
      "5254    03/22/2009\n",
      "5255    03/23/2009\n",
      "5256    04/01/2009\n",
      "5257    04/06/2009\n",
      "5258    04/09/2009\n",
      "5259    04/17/2009\n",
      "5260    04/17/2009\n",
      "5261    04/29/2009\n",
      "5262    05/03/2009\n",
      "5263    05/20/2009\n",
      "5264    05/26/2009\n",
      "5265    06/01/2009\n",
      "5266    06/07/2009\n",
      "5267    06/08/2009\n",
      "Name: Date, Length: 5268, dtype: object\n"
     ]
    }
   ],
   "source": [
    "# -*- coding=utf-8 -*-\n",
    "import pandas as pd\n",
    "import datetime\n",
    "import csv    #需要加载numpy和csv两个包  \n",
    "data=pd.read_excel('D:/Airplane_Crashes_and_Fatalities_Since_1908_.xlsx')    #打开文件  \n",
    "print(data['Date'])\n",
    "# date=data['Date']\n",
    "date = data['Date']\n",
    "date= pd.to_datetime(date)\n",
    "j=0\n",
    "for i in date:\n",
    "    year=i.year\n",
    "    date[j]=year\n",
    "    j=j+1\n",
    "date = date.value_counts(sort=False)\n",
    "index=list(date.index)\n",
    "for i in range(98):\n",
    "    if (i%5)==0:\n",
    "        continue\n",
    "    else:\n",
    "        index[i]=''"
   ]
  },
  {
   "cell_type": "code",
   "execution_count": 33,
   "metadata": {},
   "outputs": [
    {
     "data": {
      "text/plain": [
       "<matplotlib.axes._subplots.AxesSubplot at 0x831f630>"
      ]
     },
     "execution_count": 33,
     "metadata": {},
     "output_type": "execute_result"
    },
    {
     "data": {
      "image/png": "[encoded data removed]",
      "text/plain": [
       "<Figure size 1440x720 with 1 Axes>"
      ]
     },
     "metadata": {},
     "output_type": "display_data"
    }
   ],
   "source": [
    "import pandas as pd\n",
    "import numpy as np\n",
    "import matplotlib.pyplot as plt\n",
    "import matplotlib.dates as mdate\n",
    "import pylab as mpl \n",
    "plt.subplots(1, 1,figsize=(20, 10))\n",
    "date.index=index\n",
    "cc = (np.arange(98)+1)*2\n",
    "plt.xticks(fontsize=30)\n",
    "plt.yticks(fontsize=10)\n",
    "date.plot(kind='bar',color=plt.cm.jet(cc))   #基于data.plot"
   ]
  },
  {
   "cell_type": "markdown",
   "metadata": {},
   "source": [
    "利用numpy给每一列命名，可以取得某一列。"
   ]
  },
  {
   "cell_type": "code",
   "execution_count": 41,
   "metadata": {},
   "outputs": [
    {
     "name": "stdout",
     "output_type": "stream",
     "text": [
      "Military - German Army\n",
      "<class 'numpy.float64'>\n"
     ]
    }
   ],
   "source": [
    "print (data['Operator'][10])\n",
    "print (type(data['Fatalities'][10]))"
   ]
  },
  {
   "cell_type": "markdown",
   "metadata": {},
   "source": [
    "用Numpy进行数据清洗，统计失事死亡率，并求出最大发生事故的航空公司。"
   ]
  },
  {
   "cell_type": "code",
   "execution_count": 56,
   "metadata": {},
   "outputs": [
    {
     "name": "stdout",
     "output_type": "stream",
     "text": [
      "Military - U.S. Air Force 155.0\n",
      "平均死亡人数：16.669358094469114\n"
     ]
    }
   ],
   "source": [
    "diction = dict(zip(data['Operator'], data['Fatalities']))\n",
    "max_fatal=0\n",
    "all_fatal=0.0\n",
    "max_operator=''\n",
    "count=0\n",
    "for i in diction:\n",
    "    if data['Fatalities'][count]>0:\n",
    "        all_fatal=all_fatal+(data['Fatalities'][count])\n",
    "#     print (data['Fatalities'][count])\n",
    "#     print (all_fatal)\n",
    "    if (data['Fatalities'][count])>max_fatal:\n",
    "        max_fatal=(data['Fatalities'][count])\n",
    "        max_operator=data['Operator'][count]\n",
    "    count=count+1\n",
    "print (max_operator,max_fatal)\n",
    "print ('平均死亡人数：'+str(all_fatal/count))"
   ]
  },
  {
   "cell_type": "markdown",
   "metadata": {},
   "source": [
    "用Numpy统计发生最多事故航空的每年事故次数，并绘图"
   ]
  },
  {
   "cell_type": "code",
   "execution_count": 66,
   "metadata": {},
   "outputs": [
    {
     "name": "stdout",
     "output_type": "stream",
     "text": [
      "0      08/07/1943\n",
      "1      12/19/1943\n",
      "2      08/23/1944\n",
      "3      06/30/1945\n",
      "4      03/27/1945\n",
      "5      04/23/1945\n",
      "6      11/28/1947\n",
      "7      12/10/1947\n",
      "8      12/11/1947\n",
      "9      11/03/1948\n",
      "10     01/17/1949\n",
      "11     01/26/1950\n",
      "12     04/21/1950\n",
      "13     05/17/1950\n",
      "14     05/23/1950\n",
      "15     07/07/1950\n",
      "16     07/27/1950\n",
      "17     08/05/1950\n",
      "18     09/26/1950\n",
      "19     12/19/1950\n",
      "20     03/22/1951\n",
      "21     04/08/1951\n",
      "22     05/06/1951\n",
      "23     06/03/1951\n",
      "24     10/15/1951\n",
      "25     12/30/1951\n",
      "26     02/07/1952\n",
      "27     06/24/1952\n",
      "28     12/17/1953\n",
      "29     10/16/1952\n",
      "          ...    \n",
      "146    02/25/1985\n",
      "147    03/12/1985\n",
      "148    08/27/1985\n",
      "149    11/15/1985\n",
      "150    04/02/1986\n",
      "151    06/17/1986\n",
      "152    09/09/1986\n",
      "153    03/13/1987\n",
      "154    07/01/1987\n",
      "155    06/08/1988\n",
      "156    10/11/1988\n",
      "157    01/31/1989\n",
      "158    10/04/1989\n",
      "159    08/29/1990\n",
      "160    02/06/1992\n",
      "161    04/28/1992\n",
      "162    03/14/1994\n",
      "163    04/17/1995\n",
      "164    05/13/1995\n",
      "165    09/22/1995\n",
      "166    04/03/1996\n",
      "167    08/17/1996\n",
      "168    11/22/1996\n",
      "169    04/01/1997\n",
      "170    12/10/1999\n",
      "171    01/09/2002\n",
      "172    02/02/2002\n",
      "173    06/12/2002\n",
      "174    08/07/2002\n",
      "175    03/31/2005\n",
      "Length: 176, dtype: object\n",
      "1943     2\n",
      "1944     1\n",
      "1945     3\n",
      "1947     3\n",
      "1948     1\n",
      "1949     1\n",
      "1950     9\n",
      "1951     6\n",
      "1952    11\n",
      "1953     4\n",
      "1954     7\n",
      "1955     2\n",
      "1956     2\n",
      "1957     2\n",
      "1958     5\n",
      "1959     1\n",
      "1960     3\n",
      "1961     2\n",
      "1962     4\n",
      "1963     1\n",
      "1964     1\n",
      "1965     5\n",
      "1966     4\n",
      "1967     8\n",
      "1968     7\n",
      "1969     6\n",
      "1970     5\n",
      "1971     1\n",
      "1972     8\n",
      "1973     2\n",
      "1974     2\n",
      "1975     4\n",
      "1976     4\n",
      "1977     1\n",
      "1979     1\n",
      "1980     3\n",
      "1981     5\n",
      "1982     4\n",
      "1983     2\n",
      "1984     2\n",
      "1985     5\n",
      "1986     3\n",
      "1987     2\n",
      "1988     2\n",
      "1989     2\n",
      "1990     1\n",
      "1992     2\n",
      "1994     1\n",
      "1995     3\n",
      "1996     3\n",
      "1997     1\n",
      "1999     1\n",
      "2002     4\n",
      "2005     1\n",
      "dtype: int64\n"
     ]
    }
   ],
   "source": [
    "import pandas as pd\n",
    "import matplotlib.pyplot as plt\n",
    "import matplotlib.dates as mdate\n",
    "import pylab as mpl \n",
    "import numpy as np\n",
    "count=0\n",
    "j=0\n",
    "date=pd.Series(1)\n",
    "for i in data['Operator']:\n",
    "    if i =='Military - U.S. Air Force':\n",
    "        date[j]=(data['Date'][count])\n",
    "        j=j+1\n",
    "    count=count+1\n",
    "print (date)\n",
    "date= pd.to_datetime(date)\n",
    "j=0\n",
    "for i in date:\n",
    "    year=i.year\n",
    "    date[j]=year\n",
    "    j=j+1\n",
    "date = date.value_counts(sort=False)\n",
    "print (date)\n",
    "index=list(date.index)\n",
    "for i in range(54):\n",
    "    if (i%5)==0:\n",
    "        continue\n",
    "    else:\n",
    "        index[i]=''\n",
    "\n",
    "cc = (np.arange(54)+1)*5\n",
    "plt.xticks(fontsize=30)\n",
    "plt.yticks(fontsize=10)\n",
    "data.plot(kind='bar',color=plt.cm.jet(cc))   #基于data.plot"
   ]
  },
  {
   "cell_type": "code",
   "execution_count": null,
   "metadata": {},
   "outputs": [],
   "source": []
  }
 ],
 "metadata": {
  "kernelspec": {
   "display_name": "Python 3",
   "language": "python",
   "name": "python3"
  },
  "language_info": {
   "codemirror_mode": {
    "name": "ipython",
    "version": 3
   },
   "file_extension": ".py",
   "mimetype": "text/x-python",
   "name": "python",
   "nbconvert_exporter": "python",
   "pygments_lexer": "ipython3",
   "version": "3.6.5"
  }
 },
 "nbformat": 4,
 "nbformat_minor": 2
}
