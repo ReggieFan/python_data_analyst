{
 "cells": [
  {
   "cell_type": "code",
   "execution_count": 10,
   "metadata": {},
   "outputs": [
    {
     "ename": "IndentationError",
     "evalue": "expected an indented block (<ipython-input-10-bab16d1860a5>, line 14)",
     "output_type": "error",
     "traceback": [
      "\u001b[1;36m  File \u001b[1;32m\"<ipython-input-10-bab16d1860a5>\"\u001b[1;36m, line \u001b[1;32m14\u001b[0m\n\u001b[1;33m    data=pd.read_excel(,columns=['symbol','name','atomicMass'])\u001b[0m\n\u001b[1;37m    ^\u001b[0m\n\u001b[1;31mIndentationError\u001b[0m\u001b[1;31m:\u001b[0m expected an indented block\n"
     ]
    }
   ],
   "source": [
    "import re\n",
    "import pandas as pd\n",
    "def table():\n",
    "    print ('Input a chemicla compound,hyphenated:')\n",
    "    name=input()\n",
    "    list=name.split('-')\n",
    "    totalcount=0\n",
    "    for i in list:\n",
    "        result = ''.join(re.findall(r'[A-Za-z]', i)) \n",
    "        #result.upper()\n",
    "        print(result)\n",
    "        count = re.sub(\"\\D\", \"\", i) \n",
    "        print(count)\n",
    "        for j in data:\n",
    "            if result==j['symbol']:\n",
    "                print j['name']\n",
    "                mass=j['atomicMass']\n",
    "        totalcount=+count*mass\n",
    "    data=pd.read_excel(,columns=['symbol','name','atomicMass'])\n",
    "    "
   ]
  },
  {
   "cell_type": "code",
   "execution_count": 9,
   "metadata": {},
   "outputs": [
    {
     "name": "stdout",
     "output_type": "stream",
     "text": [
      "Input a chemicla compound,hyphenated:\n",
      "CO2-TH3-Y61\n",
      "CO\n",
      "2\n",
      "TH\n",
      "3\n",
      "Y\n",
      "61\n"
     ]
    }
   ],
   "source": [
    "table()"
   ]
  },
  {
   "cell_type": "code",
   "execution_count": null,
   "metadata": {},
   "outputs": [],
   "source": []
  }
 ],
 "metadata": {
  "kernelspec": {
   "display_name": "Python 3",
   "language": "python",
   "name": "python3"
  },
  "language_info": {
   "codemirror_mode": {
    "name": "ipython",
    "version": 3
   },
   "file_extension": ".py",
   "mimetype": "text/x-python",
   "name": "python",
   "nbconvert_exporter": "python",
   "pygments_lexer": "ipython3",
   "version": "3.6.5"
  }
 },
 "nbformat": 4,
 "nbformat_minor": 2
}
